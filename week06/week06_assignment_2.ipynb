{
  "cells": [
    {
      "cell_type": "markdown",
      "metadata": {
        "nbgrader": {
          "grade": false,
          "grade_id": "intro",
          "locked": true,
          "schema_version": 1,
          "solution": false
        },
        "id": "T2kSp9jyDqK9"
      },
      "source": [
        "# Week 6 Exercises\n",
        "\n",
        "_McKinney 6.1_\n",
        "\n",
        "There are multiple ways to solve the problems below.  You can use any one of several approaches.  For example, you can read CSV files using Pandas or the csv module.  Your score won't depend on which modules you choose to use unless explicitly noted below, but your programming style will still matter."
      ]
    },
    {
      "cell_type": "markdown",
      "metadata": {
        "nbgrader": {
          "grade": false,
          "grade_id": "q1-description",
          "locked": true,
          "schema_version": 1,
          "solution": false
        },
        "id": "xDg6_693DqLD"
      },
      "source": [
        "### 30.1 List of Allergies\n",
        "\n",
        "In this GitHub repository, there is a file called `allergies.json` that contains a list of patient allergies.  You will need to download this [file from here](https://raw.githubusercontent.com/paulboal/hds5210-2023/main/week06/allergies.json) and then upload it into Google Colab to run these examples. It is taken from sample data provided by the EHR vendor, Epic, here: https://open.epic.com/Clinical/Allergy\n",
        "\n",
        "Take some time to look at the structure of the file.  You can open it directly in Jupyter by clicking the _Home_ icon, then the _from_instructor_ folder, and then the _data_ folder.\n",
        "\n",
        "Within the file, you'll see that it is a dictionary with many items in it.  One of those items is called `entry` and that item is a list of things.  You can tell that because the item name is immediately followed by an opening square bracket, signifying the start of a list.  It's line 11 of the file: `  \"entry\": [`\n",
        "\n",
        "Write a function named `allergy_count(json_file)` that takes as one parameter the name of the JSON file and returns an integer number of entries in that file.  Your function should open the file, read the json into a Python object, and return how many items there are in the list of `entry`s."
      ]
    },
    {
      "cell_type": "code",
      "execution_count": 311,
      "metadata": {
        "id": "dKihgF5pDqLE"
      },
      "outputs": [],
      "source": [
        "import json\n",
        "ALLERGIES_FILE=\"allergies.json\""
      ]
    },
    {
      "cell_type": "code",
      "execution_count": 312,
      "metadata": {
        "nbgrader": {
          "grade": false,
          "grade_id": "q1-answer",
          "locked": false,
          "schema_version": 1,
          "solution": true
        },
        "id": "Kt91KzWmDqLG"
      },
      "outputs": [],
      "source": [
        "def allergy_count(json_file):\n",
        "  # Open the allergies JSON file for reading\n",
        "  with open(json_file, 'r') as file:\n",
        "    # Load the JSON data into an object\n",
        "    allergies_data = json.load(file)\n",
        "\n",
        "    # Check if the \"entry\" key exists and it's a list\n",
        "    if 'entry' in allergies_data and isinstance(allergies_data['entry'], list):\n",
        "        # Count the number of items in the \"entry\" list\n",
        "        number_of_entries = len(allergies_data['entry'])\n",
        "        return number_of_entries\n",
        "    else:\n",
        "        # Return 0 if \"entry\" key is missing or not a list\n",
        "        return 0"
      ]
    },
    {
      "cell_type": "code",
      "execution_count": 313,
      "metadata": {
        "colab": {
          "base_uri": "https://localhost:8080/"
        },
        "id": "PTaTHsFDDqLH",
        "outputId": "a1c872ec-5422-45a9-d9ab-95599459b7e7"
      },
      "outputs": [
        {
          "output_type": "execute_result",
          "data": {
            "text/plain": [
              "4"
            ]
          },
          "metadata": {},
          "execution_count": 313
        }
      ],
      "source": [
        "allergy_count(ALLERGIES_FILE)"
      ]
    },
    {
      "cell_type": "code",
      "execution_count": 314,
      "metadata": {
        "nbgrader": {
          "grade": true,
          "grade_id": "q1-tests",
          "locked": true,
          "points": 5,
          "schema_version": 1,
          "solution": false
        },
        "id": "LjWhNNpsDqLI"
      },
      "outputs": [],
      "source": [
        "assert type(allergy_count(ALLERGIES_FILE)) == int\n",
        "assert allergy_count(ALLERGIES_FILE) == 4"
      ]
    },
    {
      "cell_type": "markdown",
      "metadata": {
        "id": "pOUctU66DqLJ"
      },
      "source": [
        "### 30.2 Number of Patients\n",
        "\n",
        "If you dig a little bit deaper into this list of allergies, you'll see that each result has a patient associated with it.  Create a funcation called `patient_count(json_file)` that will count how many unique patients we have in this JSON structure.  "
      ]
    },
    {
      "cell_type": "code",
      "execution_count": 315,
      "metadata": {
        "id": "00SoiYBMDqLK"
      },
      "outputs": [],
      "source": [
        "def patient_count(json_file):\n",
        "  # Open the allergies JSON file for reading\n",
        "  with open(json_file, 'r') as file:\n",
        "      # Load the JSON data into a Python object\n",
        "      allergies_data = json.load(file)\n",
        "\n",
        "      # Check if the \"entry\" key exists and and also it's a list\n",
        "      if 'entry' in allergies_data and isinstance(allergies_data['entry'], list):\n",
        "          # Create a set to store unique patient names\n",
        "          unique_patients = set()\n",
        "\n",
        "          # Loop through the entries and collect unique patient names\n",
        "          for entry in allergies_data['entry']:\n",
        "              if 'resource' in entry and 'patient' in entry['resource']:\n",
        "                  patient_name = entry['resource']['patient']['display']\n",
        "                  unique_patients.add(patient_name)\n",
        "\n",
        "          # Count the number of unique patients\n",
        "          num_unique_patients = len(unique_patients)\n",
        "          return num_unique_patients\n",
        "      else:\n",
        "          # If \"entry\" key is missing or if it is not a list return 0\n",
        "          return 0\n"
      ]
    },
    {
      "cell_type": "code",
      "execution_count": 316,
      "metadata": {
        "colab": {
          "base_uri": "https://localhost:8080/"
        },
        "id": "fpYBZXLoDqLK",
        "outputId": "6321e5a2-a834-432e-a302-02e63285d5e2"
      },
      "outputs": [
        {
          "output_type": "execute_result",
          "data": {
            "text/plain": [
              "2"
            ]
          },
          "metadata": {},
          "execution_count": 316
        }
      ],
      "source": [
        "patient_count(ALLERGIES_FILE)"
      ]
    },
    {
      "cell_type": "code",
      "execution_count": 317,
      "metadata": {
        "id": "M9-nSgpyDqLL"
      },
      "outputs": [],
      "source": [
        "assert type(patient_count(ALLERGIES_FILE)) == int\n",
        "assert patient_count(ALLERGIES_FILE) == 2"
      ]
    },
    {
      "cell_type": "markdown",
      "metadata": {
        "id": "M2XbWQubDqLM"
      },
      "source": [
        "### 30.3 How Many Allergies per Patient\n",
        "\n",
        "Although each entry is a separate allergy, several of them are for the same patient.  Write a function called `allergy_per_patient(json_file)` that counts up how many allergies each patient has.\n"
      ]
    },
    {
      "cell_type": "code",
      "execution_count": 318,
      "metadata": {
        "id": "l2URLzUWDqLM"
      },
      "outputs": [],
      "source": [
        "def allergy_per_patient(json_file):\n",
        "  # Open the allergies JSON file for reading\n",
        "  with open(json_file, 'r') as file:\n",
        "      # Load the JSON data into an object\n",
        "      allergies_data = json.load(file)\n",
        "\n",
        "      # Check if the \"entry\" key exists and it's a list\n",
        "      if 'entry' in allergies_data and isinstance(allergies_data['entry'], list):\n",
        "          # Create an empty dictionary to store allergies per patient\n",
        "          allergies_by_patient = {}\n",
        "\n",
        "          # Loop through the entries and count allergies for each patient\n",
        "          for entry in allergies_data['entry']:\n",
        "              if 'resource' in entry and 'patient' in entry['resource']:\n",
        "                  patient_name = entry['resource']['patient']['display']\n",
        "\n",
        "                  # Check if the patient is already present in the dictionary\n",
        "                  if patient_name in allergies_by_patient:\n",
        "                      allergies_by_patient[patient_name] += 1\n",
        "                  else:\n",
        "                      allergies_by_patient[patient_name] = 1\n",
        "\n",
        "          return allergies_by_patient\n",
        "      else:\n",
        "          # If \"entry\" key is missing or if it is not a list return empty object\n",
        "          return {}\n"
      ]
    },
    {
      "cell_type": "code",
      "execution_count": 319,
      "metadata": {
        "colab": {
          "base_uri": "https://localhost:8080/"
        },
        "id": "nEPCtAWKDqLM",
        "outputId": "f162a3d7-4f11-40a0-a9b4-799a595342b7"
      },
      "outputs": [
        {
          "output_type": "execute_result",
          "data": {
            "text/plain": [
              "{'Jason Argonaut': 3, 'Paul Boal': 1}"
            ]
          },
          "metadata": {},
          "execution_count": 319
        }
      ],
      "source": [
        "allergy_per_patient(ALLERGIES_FILE)"
      ]
    },
    {
      "cell_type": "code",
      "execution_count": 320,
      "metadata": {
        "id": "Wzw56KUvDqLN"
      },
      "outputs": [],
      "source": [
        "assert type(allergy_per_patient(ALLERGIES_FILE)) == dict\n",
        "assert allergy_per_patient(ALLERGIES_FILE) == {'Paul Boal': 1, 'Jason Argonaut': 3}"
      ]
    },
    {
      "cell_type": "markdown",
      "metadata": {
        "nbgrader": {
          "grade": false,
          "grade_id": "q2-question",
          "locked": true,
          "schema_version": 1,
          "solution": false
        },
        "id": "YKLsvVtlDqLN"
      },
      "source": [
        "### 30.4 Patient Allergies and Reaction\n",
        "\n",
        "You'll see in the file that each of the items in the `entry` list have several other attributes including a patient name, substance text representation, and a reaction manifestation.  Create a function named `allergy_list(json_file)` that will create an output list that has patient name, allergy, and reaction for each `entry`.  The actual result you should get will be:\n",
        "\n",
        "```python\n",
        "[['Jason Argonaut', 'PENICILLIN G', 'Hives'],\n",
        " ['Paul Boal', 'PENICILLIN G', 'Bruising'],\n",
        " ['Jason Argonaut', 'SHELLFISH-DERIVED PRODUCTS', 'Itching'],\n",
        " ['Jason Argonaut', 'STRAWBERRY', 'Anaphylaxis']]\n",
        "```\n",
        "\n",
        "You'll notice that the reaction and the manifestation of that action are lists.  You only need to capture the first reaction and the first manifestation of the action.  That is, if there is a list of things, just output the first one."
      ]
    },
    {
      "cell_type": "code",
      "execution_count": 321,
      "metadata": {
        "nbgrader": {
          "grade": false,
          "grade_id": "q2-answer",
          "locked": false,
          "schema_version": 1,
          "solution": true
        },
        "id": "Z9_fchK9DqLN"
      },
      "outputs": [],
      "source": [
        "def allergy_list(json_file):\n",
        "  # Open the JSON file for reading\n",
        "  with open(json_file, 'r') as file:\n",
        "      # Load the JSON data into a Python object\n",
        "      allergies_data = json.load(file)\n",
        "\n",
        "      # Check to see if the \"entry\" key exists and if it is a list.\n",
        "      if 'entry' in allergies_data and isinstance(allergies_data['entry'], list):\n",
        "          # Create an empty list to store the output\n",
        "          output_list = []\n",
        "\n",
        "          # Iterate through the entries and extract patient name, allergy, and reaction\n",
        "          for entry in allergies_data['entry']:\n",
        "              if 'resource' in entry and 'patient' in entry['resource']:\n",
        "                  patient_name = entry['resource']['patient']['display']\n",
        "                  allergy = entry['resource']['substance']['text']\n",
        "\n",
        "                  # Initialize reaction and manifestation to None\n",
        "                  reaction = None\n",
        "                  manifestation = None\n",
        "\n",
        "                  # Check if there is at least one reaction\n",
        "                  if 'reaction' in entry['resource'] and isinstance(entry['resource']['reaction'], list) and len(entry['resource']['reaction']) > 0:\n",
        "                      reaction = entry['resource']['reaction'][0]\n",
        "\n",
        "                      # Check if there is at least one manifestation in the reaction\n",
        "                      if 'manifestation' in reaction and isinstance(reaction['manifestation'], list):\n",
        "                          manifestation = reaction['manifestation'][0]['text']\n",
        "\n",
        "                  # Create a list with patient name, allergy, and reaction (or None)\n",
        "                  entry_info = [patient_name, allergy, manifestation]\n",
        "                  output_list.append(entry_info)\n",
        "\n",
        "          return output_list\n",
        "      else:\n",
        "          # \"entry\" key is missing or not a list\n",
        "          return []\n"
      ]
    },
    {
      "cell_type": "code",
      "execution_count": 322,
      "metadata": {
        "colab": {
          "base_uri": "https://localhost:8080/"
        },
        "id": "bGCIb9I2DqLN",
        "outputId": "15045465-ced4-4e18-8615-f4aee1d45db7"
      },
      "outputs": [
        {
          "output_type": "execute_result",
          "data": {
            "text/plain": [
              "[['Jason Argonaut', 'PENICILLIN G', 'Hives'],\n",
              " ['Jason Argonaut', 'SHELLFISH-DERIVED PRODUCTS', 'Itching'],\n",
              " ['Jason Argonaut', 'STRAWBERRY', 'Anaphylaxis'],\n",
              " ['Paul Boal', 'PENICILLIN G', 'Bruising']]"
            ]
          },
          "metadata": {},
          "execution_count": 322
        }
      ],
      "source": [
        "allergy_list(ALLERGIES_FILE)"
      ]
    },
    {
      "cell_type": "code",
      "execution_count": 323,
      "metadata": {
        "nbgrader": {
          "grade": true,
          "grade_id": "q2-tests",
          "locked": true,
          "points": 10,
          "schema_version": 1,
          "solution": false
        },
        "id": "KeAKBqRWDqLO"
      },
      "outputs": [],
      "source": [
        "assert allergy_list(ALLERGIES_FILE) == [['Jason Argonaut', 'PENICILLIN G', 'Hives'],\n",
        " ['Jason Argonaut', 'SHELLFISH-DERIVED PRODUCTS', 'Itching'],\n",
        " ['Jason Argonaut', 'STRAWBERRY', 'Anaphylaxis'],\n",
        " ['Paul Boal', 'PENICILLIN G', 'Bruising']]\n"
      ]
    },
    {
      "cell_type": "markdown",
      "metadata": {
        "nbgrader": {
          "grade": false,
          "grade_id": "q3-question",
          "locked": true,
          "schema_version": 1,
          "solution": false
        },
        "id": "pLy3R9b2DqLO"
      },
      "source": [
        "### 30.5 Allergy Reaction\n",
        "\n",
        "Write a function called `allergy_reaction(json_file,patient,substance)` that takes three parameter and returns the reaction that will happen if the patient takes the specified substance.  You can solve this, in part, by calling your `allergy_list` function inside your new `allergy_reaction` function.\n",
        "\n",
        "If the substance is not found in the allergy list, the function should return None."
      ]
    },
    {
      "cell_type": "code",
      "execution_count": 324,
      "metadata": {
        "nbgrader": {
          "grade": false,
          "grade_id": "q3-answer",
          "locked": false,
          "schema_version": 1,
          "solution": true
        },
        "id": "1rxX4H6aDqLO"
      },
      "outputs": [],
      "source": [
        "def allergy_reaction(json_file, patient, substance):\n",
        "    # Get the list of allergies by using the allergy_list function\n",
        "    list_of_allergies = allergy_list(json_file)\n",
        "\n",
        "    # loop through the allergies to find the matching patient and substance\n",
        "    for entry_info in list_of_allergies:\n",
        "        entry_patient, entry_substance, reaction = entry_info\n",
        "\n",
        "        # Check if the patient and substance match the specified values\n",
        "        if entry_patient == patient and entry_substance == substance:\n",
        "            return reaction  # Return the reaction if found\n",
        "\n",
        "    # If a matching entry is not found, return None\n",
        "    return None\n"
      ]
    },
    {
      "cell_type": "code",
      "execution_count": 325,
      "metadata": {
        "colab": {
          "base_uri": "https://localhost:8080/",
          "height": 36
        },
        "id": "Dxnsmw5gDqLO",
        "outputId": "7675ec53-790c-43ec-9c47-2833c614d6be"
      },
      "outputs": [
        {
          "output_type": "execute_result",
          "data": {
            "text/plain": [
              "'Hives'"
            ],
            "application/vnd.google.colaboratory.intrinsic+json": {
              "type": "string"
            }
          },
          "metadata": {},
          "execution_count": 325
        }
      ],
      "source": [
        "allergy_reaction(ALLERGIES_FILE, 'Jason Argonaut', 'PENICILLIN G')"
      ]
    },
    {
      "cell_type": "code",
      "execution_count": 326,
      "metadata": {
        "nbgrader": {
          "grade": true,
          "grade_id": "q3-tests",
          "locked": true,
          "points": 5,
          "schema_version": 1,
          "solution": false
        },
        "id": "6JWEH2_UDqLO"
      },
      "outputs": [],
      "source": [
        "assert allergy_reaction(ALLERGIES_FILE, 'Jason Argonaut', 'PENICILLIN G') == 'Hives'\n",
        "assert allergy_reaction(ALLERGIES_FILE, 'Jason Argonaut', 'SHELLFISH-DERIVED PRODUCTS') == 'Itching'\n",
        "assert allergy_reaction(ALLERGIES_FILE, 'Jason Argonaut', 'STRAWBERRY') == 'Anaphylaxis'\n",
        "assert allergy_reaction(ALLERGIES_FILE, 'Jason Argonaut', 'PENICILLIN') == None\n",
        "assert allergy_reaction(ALLERGIES_FILE, 'Paul Boal', 'PENICILLIN G') == 'Bruising'"
      ]
    },
    {
      "cell_type": "markdown",
      "metadata": {
        "id": "G0JHrqs0DqLP"
      },
      "source": [
        "---\n",
        "\n",
        "## Check your work above\n",
        "\n",
        "If you didn't get them all correct, take a few minutes to think through those that aren't correct.\n",
        "\n",
        "\n",
        "## Submitting Your Work\n",
        "\n",
        "In order to submit your work, you'll need to save this notebook file back to GitHub.  To do that in Google Colab:\n",
        "1. File -> Save a Copy in GitHub\n",
        "2. Make sure your HDS5210 repository is selected\n",
        "3. Make sure the file name includes the week number like this: `week06/week06_assignment_2.ipynb`\n",
        "4. Add a commit message that means something\n",
        "\n",
        "**Be sure week names are lowercase and use a two digit week number!!**\n",
        "\n",
        "**Be sure you use the same file name provided by the instructor!!**\n",
        "\n"
      ]
    }
  ],
  "metadata": {
    "celltoolbar": "Create Assignment",
    "kernelspec": {
      "display_name": "Python 3",
      "language": "python",
      "name": "python3"
    },
    "language_info": {
      "codemirror_mode": {
        "name": "ipython",
        "version": 3
      },
      "file_extension": ".py",
      "mimetype": "text/x-python",
      "name": "python",
      "nbconvert_exporter": "python",
      "pygments_lexer": "ipython3",
      "version": "3.9.16"
    },
    "colab": {
      "provenance": []
    }
  },
  "nbformat": 4,
  "nbformat_minor": 0
}