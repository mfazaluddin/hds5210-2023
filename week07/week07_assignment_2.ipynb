{
  "cells": [
    {
      "cell_type": "markdown",
      "metadata": {
        "id": "uuAQYXh5UW4c"
      },
      "source": [
        "# Week 7 Assignment\n",
        "\n",
        "We've been working with different types of data structures in Python (dictionary, list, etc), how those are represented in JSON documents, and how to write code to access specific data elements. In this week's assignment, you will need to create your own JSON document to store information about yourself and the grades you've received from week 1 to week 4 and the week 6 quiz.  That is, everything you should have received a grade for.  Then you'll need to show me you know how to navigate the JSON in that file.\n",
        "\n",
        "Different from what we've done in the past, you do not have to write any functions or include any docstrings.  Just create some JSON and write some code.\n",
        "\n",
        "---"
      ]
    },
    {
      "cell_type": "markdown",
      "metadata": {
        "id": "0xrc1rqGUW4f"
      },
      "source": [
        "## 7.1 Create a JSON string\n",
        "\n",
        "Create a JSON string that contains your name, email, year you were born, all of the grades you've received back so far, and a comment about what you thought was most challenging on each of those assignments.  This can be any structure you choose, but make sure it uses a dictionary and a list, and has at least two levels of hierarchy.  That is, it can't just be one big long list."
      ]
    },
    {
      "cell_type": "markdown",
      "metadata": {
        "id": "Orv-14KPUW4g"
      },
      "source": [
        "First, explain how your data structure is going to look..."
      ]
    },
    {
      "cell_type": "markdown",
      "metadata": {
        "id": "eo3qQ2aGUW4g"
      },
      "source": [
        "* Put your explanation here in text..."
      ]
    },
    {
      "cell_type": "markdown",
      "metadata": {
        "id": "8dzZoYVRUW4g"
      },
      "source": [
        "Then put the actual JSON you've created inside the multiline string below..."
      ]
    },
    {
      "cell_type": "code",
      "execution_count": 36,
      "metadata": {
        "id": "6pdrnxaSUW4h"
      },
      "outputs": [],
      "source": [
        "hds5210 = \"\"\"\n",
        "        {\n",
        "            \"name\": \"FazalUddin Mohd\",\n",
        "            \"email\": \"mohd.fazaluddin@slu.edu\",\n",
        "            \"year_of_birth\": 1998,\n",
        "            \"grades\": {\n",
        "                \"Week1\": {\"grade\": \"10/10\", \"comment\": \"The assignment was pretty simple as there was nothing much to do. I just found using Google Colab and Git quite challenging as it was my first time using them.\"},\n",
        "                \"Week2\": {\"grade\": \"10/10\", \"comment\": \"At this point, since I just started getting hands-on programming, understanding the fucntions and the parameters were a bit complex for me. I was confused between function definition and function calling, but I eventually figured it out and received full credit for this assignment\"},\n",
        "                \"Week3\": {\"grade\": \"10/10\", \"comment\": \"In week 3 assignment the most challenging part for me was to convert the formulas into programming. I spent so much time to write all the conditions and also I tried multiple approaches before creating a score map for the computation of LACE score\"},\n",
        "                \"Week4\": {\"grade\": \"9/10\", \"comment\": \"In week 4 assignment I found working with dictionaries and lists very challenging. The most difficult part was looping through the list and dictionary which was very confusing. I had to write down the current item in my notes to better comprehend the flow\"},\n",
        "                \"Week6_quiz\": {\"grade\": \"5/20\", \"comment\": \"The most challenging thing I found in week 6 quiz is the time. Since there was limited time I couldn't do the programms properly. I usually spend some quality time to write a program and by testing the data flow using print statements at each instance\"}\n",
        "            }\n",
        "        }\n",
        "\"\"\""
      ]
    },
    {
      "cell_type": "markdown",
      "metadata": {
        "id": "Zx2MXCwbUW4i"
      },
      "source": [
        "## 7.2 Do something with your JSON\n",
        "\n",
        "Now use Python code to do something with the Json above.  Turn it into English text, but make sure that you use at least one loop to access some dict or list content of your JSON.  Below, I've provided some basic code to read in the string above as JSON and return a Python object.  Your job is to work with that data structure and print out the important information like your name, email, and how you did on each assignment."
      ]
    },
    {
      "cell_type": "code",
      "execution_count": 37,
      "metadata": {
        "colab": {
          "base_uri": "https://localhost:8080/"
        },
        "id": "gkO20WXLUW4i",
        "outputId": "cb0bd657-111f-4eaf-9a78-19be7d79015b"
      },
      "outputs": [
        {
          "output_type": "stream",
          "name": "stdout",
          "text": [
            "Name: FazalUddin Mohd\n",
            "Email: mohd.fazaluddin@slu.edu\n",
            "Year of Birth: 1998\n",
            "\n",
            "Assignment: Week1\n",
            "Grade: 10/10\n",
            "Comment: The assignment was pretty simple as there was nothing much to do. I just found using Google Colab and Git quite challenging as it was my first time using them.\n",
            "\n",
            "Assignment: Week2\n",
            "Grade: 10/10\n",
            "Comment: At this point, since I just started getting hands-on programming, understanding the fucntions and the parameters were a bit complex for me. I was confused between function definition and function calling, but I eventually figured it out and received full credit for this assignment\n",
            "\n",
            "Assignment: Week3\n",
            "Grade: 10/10\n",
            "Comment: In week 3 assignment the most challenging part for me was to convert the formulas into programming. I spent so much time to write all the conditions and also I tried multiple approaches before creating a score map for the computation of LACE score\n",
            "\n",
            "Assignment: Week4\n",
            "Grade: 9/10\n",
            "Comment: In week 4 assignment I found working with dictionaries and lists very challenging. The most difficult part was looping through the list and dictionary which was very confusing. I had to write down the current item in my notes to better comprehend the flow\n",
            "\n",
            "Assignment: Week6_quiz\n",
            "Grade: 5/20\n",
            "Comment: The most challenging thing I found in week 6 quiz is the time. Since there was limited time I couldn't do the programms properly. I usually spend some quality time to write a program and by testing the data flow using print statements at each instance\n"
          ]
        }
      ],
      "source": [
        "import json\n",
        "\n",
        "info = json.loads(hds5210)\n",
        "\n",
        "# Access python object and print name, email and birth\n",
        "print(\"Name:\", info[\"name\"])\n",
        "print(\"Email:\", info[\"email\"])\n",
        "print(\"Year of Birth:\", info[\"year_of_birth\"])\n",
        "\n",
        "# Access and print grade and comments for each assignment\n",
        "for assignment, details in info[\"grades\"].items():\n",
        "    print(f\"\\nAssignment: {assignment}\")\n",
        "    print(f\"Grade: {details['grade']}\")\n",
        "    print(\"Comment:\", details[\"comment\"])"
      ]
    },
    {
      "cell_type": "markdown",
      "metadata": {
        "id": "nwel2NlzUW4j"
      },
      "source": [
        "## 7.3 Reflect\n",
        "\n",
        "Write a paragraph on any reflections you have. Was this hard? Easy?  What parts were most challenging or easiest? What did you like or dislike about the assignment?  Share whatever important thoughts you have abou this assignment."
      ]
    },
    {
      "cell_type": "markdown",
      "metadata": {
        "id": "PIpekxiQUW4j"
      },
      "source": [
        "I found this assignment to be a moderate challenge. While it wasn't overly difficult, it did present some interesting aspects. I particularly enjoyed working with JSON data in Python, as it allowed me to access and manipulate structured information. The most challenging part was ensuring I navigated the nested data correctly. I had to carefully understand the JSON structure to access the right information. However, with Professor Paul's class recording and practice, I improved in this aspect. Overall, I appreciated the opportunity to apply my Python skills to a practical task and better understand JSON data integration, making this assignment a valuable learning experience."
      ]
    },
    {
      "cell_type": "markdown",
      "metadata": {
        "id": "_GYZCnt4UW4j"
      },
      "source": [
        "---\n",
        "\n",
        "# Example\n",
        "\n",
        "Below is an example of something similar, but this uses information my and my friend's kids instead of grades."
      ]
    },
    {
      "cell_type": "code",
      "execution_count": 38,
      "metadata": {
        "colab": {
          "base_uri": "https://localhost:8080/"
        },
        "id": "WvzEiuSYUW4k",
        "outputId": "b405b19b-c24c-4ef6-9e5f-2c404806b799"
      },
      "outputs": [
        {
          "output_type": "stream",
          "name": "stdout",
          "text": [
            "Hi, my name is Paul. I've got 3 kids. Their names are Ellie, Ada, Teddy.\n",
            "My friend, Anny has 1 kids. That's fewer than me. Their names are 1\n"
          ]
        }
      ],
      "source": [
        "hds5210 = \"\"\"\n",
        "{\n",
        "    \"me\": {\n",
        "        \"name\": \"Paul\",\n",
        "        \"kids\": [\"Ellie\", \"Ada\", \"Teddy\"]\n",
        "    },\n",
        "    \"friend\": {\n",
        "        \"name\": \"Anny\",\n",
        "        \"kids\": [\"Abby\"]\n",
        "    }\n",
        "}\n",
        "\"\"\"\n",
        "\n",
        "import json\n",
        "\n",
        "info = json.loads(hds5210)\n",
        "\n",
        "me = info[\"me\"][\"name\"]\n",
        "my_kids_count = len(info[\"me\"][\"kids\"])\n",
        "kids_list = \", \".join(info[\"me\"][\"kids\"])\n",
        "friend = info[\"friend\"][\"name\"]\n",
        "friends_kid_count = len(info[\"friend\"][\"kids\"])\n",
        "friend_kids = \", \".join(info[\"friend\"][\"kids\"])\n",
        "compare = \"more\" if friends_kid_count > my_kids_count else \"fewer\"\n",
        "\n",
        "print(f\"Hi, my name is {me}. I've got {my_kids_count} kids. Their names are {kids_list}.\")\n",
        "print(f\"My friend, {friend} has {friends_kid_count} kids. That's {compare} than me. Their names are {friends_kid_count}\")"
      ]
    }
  ],
  "metadata": {
    "kernelspec": {
      "display_name": "Python 3",
      "language": "python",
      "name": "python3"
    },
    "language_info": {
      "codemirror_mode": {
        "name": "ipython",
        "version": 3
      },
      "file_extension": ".py",
      "mimetype": "text/x-python",
      "name": "python",
      "nbconvert_exporter": "python",
      "pygments_lexer": "ipython3",
      "version": "3.9.16"
    },
    "colab": {
      "provenance": []
    }
  },
  "nbformat": 4,
  "nbformat_minor": 0
}