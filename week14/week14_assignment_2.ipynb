{
  "cells": [
    {
      "cell_type": "markdown",
      "metadata": {
        "id": "view-in-github",
        "colab_type": "text"
      },
      "source": [
        "<a href=\"https://colab.research.google.com/github/mfazaluddin/hds5210-2023/blob/main/week14/week14_assignment_2.ipynb\" target=\"_parent\"><img src=\"https://colab.research.google.com/assets/colab-badge.svg\" alt=\"Open In Colab\"/></a>"
      ]
    },
    {
      "cell_type": "markdown",
      "metadata": {
        "nbgrader": {
          "grade": false,
          "grade_id": "intro",
          "locked": true,
          "schema_version": 1,
          "solution": false
        },
        "id": "4bQ28GqWAwpe"
      },
      "source": [
        "# Working with multiple data sets\n",
        "\n",
        "There are two data files that we'll be working with for this week's assignment.  They are described below.  Load those data files in with Pandas and then work to answering each of the questions below.  All of these files are found in our usual s3 bucket: `https://hds5210-data.s3.amazonaws.com`\n",
        "\n",
        "## npidata.csv\n",
        "\n",
        "This file is basic information about every healthcare provider in the US.  It has one row for each NPI (National Provider Identifier).  It contains information such as the provider's name and address.\n",
        "\n",
        "* https://hds5210-data.s3.amazonaws.com/npidata.csv\n",
        "\n",
        "\n",
        "## cmsYYYY.csv\n",
        "\n",
        "These are files about what kinds of procedures and patients providers in the US are serving under CMS programs, Medicare and Medicaid.  Each contains various statistics about providers over the course of a year.  There are three of these, for the years 2014, 2015, and 2016.  These files, however, don't contain information about the provider such as where the provider is located.\n",
        "\n",
        "* https://hds5210-data.s3.amazonaws.com/cms2014.csv\n",
        "* https://hds5210-data.s3.amazonaws.com/cms2015.csv\n",
        "* https://hds5210-data.s3.amazonaws.com/cms2016.csv\n",
        "\n",
        "## Our Goals\n",
        "\n",
        "For this assignment, we're going to want to compute some statistics based on the data in the **cms** files, but aggregate that data based on information in the **npidata** file.  As in last week's assignment, you'll need to store your answers in a variable called `answer` at the end of each step."
      ]
    },
    {
      "cell_type": "code",
      "execution_count": 110,
      "metadata": {
        "nbgrader": {
          "grade": false,
          "grade_id": "import",
          "locked": true,
          "schema_version": 1,
          "solution": false
        },
        "id": "B2WNtqb1Awpg"
      },
      "outputs": [],
      "source": [
        "import pandas as pd"
      ]
    },
    {
      "cell_type": "markdown",
      "metadata": {
        "nbgrader": {
          "grade": false,
          "grade_id": "01-intro",
          "locked": true,
          "schema_version": 1,
          "solution": false
        },
        "id": "sudfMt65Awpg"
      },
      "source": [
        "## Part 1\n",
        "\n",
        "In this first step, we'll need to merge together all of the **cms** files into a single dataframe.  Be careful that these files might not be identical, so you'll have to look a little bit to figure out how to merge them.\n",
        "\n",
        "As you are merging them, make sure that you retain information about which file (i.e. which year) the data came from.  Call that new columns `year`.\n",
        "\n",
        "In your `answer` variable, provide a complete data frame that contains all of the rows and columns from the **cms** files, plus an additional column to store the year/file that particular row came from.\n",
        "\n",
        "The assertion tests will give you a good idea as to if you're merging the files correctly."
      ]
    },
    {
      "cell_type": "code",
      "execution_count": 111,
      "metadata": {
        "nbgrader": {
          "grade": false,
          "grade_id": "01-solution",
          "locked": false,
          "schema_version": 1,
          "solution": true
        },
        "id": "NZgoS86eAwpg"
      },
      "outputs": [],
      "source": [
        "answer = None\n",
        "\n",
        "# Read data for 2014, 2015, and 2016 from provided URLs\n",
        "data_2014 = pd.read_csv('https://hds5210-data.s3.amazonaws.com/cms2014.csv')\n",
        "data_2015 = pd.read_csv('https://hds5210-data.s3.amazonaws.com/cms2015.csv')\n",
        "data_2016 = pd.read_csv('https://hds5210-data.s3.amazonaws.com/cms2016.csv')\n",
        "\n",
        "# Convert column names to lowercase for consistency\n",
        "data_2014.columns = [col.lower() for col in data_2014.columns]\n",
        "data_2015.columns = [col.lower() for col in data_2015.columns]\n",
        "data_2016.columns = [col.lower() for col in data_2016.columns]\n",
        "\n",
        "# Add 'year' column to indicate the respective year\n",
        "data_2014['year'] = 2014\n",
        "data_2015['year'] = 2015\n",
        "data_2016['year'] = 2016\n",
        "\n",
        "# Concatenate DataFrames vertically for a single DataFrame\n",
        "answer = pd.concat([data_2014, data_2015, data_2016])\n"
      ]
    },
    {
      "cell_type": "code",
      "execution_count": 112,
      "metadata": {
        "nbgrader": {
          "grade": true,
          "grade_id": "01-tests",
          "locked": true,
          "points": 5,
          "schema_version": 1,
          "solution": false
        },
        "id": "Z52BgWZXAwpg"
      },
      "outputs": [],
      "source": [
        "assert(answer.shape == (193862, 60))\n",
        "assert(list(answer['year'].unique()) == [2014,2015,2016])\n",
        "assert(set(answer.columns.str.lower()) == set(['year', 'nbr', 'npi', 'provider_type',\n",
        "       'medicare_participation_indicator', 'number_of_hcpcs', 'total_services',\n",
        "       'total_unique_benes', 'total_submitted_chrg_amt',\n",
        "       'total_medicare_allowed_amt', 'total_medicare_payment_amt',\n",
        "       'total_medicare_stnd_amt', 'drug_suppress_indicator',\n",
        "       'number_of_drug_hcpcs', 'total_drug_services',\n",
        "       'total_drug_unique_benes', 'total_drug_submitted_chrg_amt',\n",
        "       'total_drug_medicare_allowed_amt', 'total_drug_medicare_payment_amt',\n",
        "       'total_drug_medicare_stnd_amt', 'med_suppress_indicator',\n",
        "       'number_of_med_hcpcs', 'total_med_services', 'total_med_unique_benes',\n",
        "       'total_med_submitted_chrg_amt', 'total_med_medicare_allowed_amt',\n",
        "       'total_med_medicare_payment_amt', 'total_med_medicare_stnd_amt',\n",
        "       'beneficiary_average_age', 'beneficiary_age_less_65_count',\n",
        "       'beneficiary_age_65_74_count', 'beneficiary_age_75_84_count',\n",
        "       'beneficiary_age_greater_84_count', 'beneficiary_female_count',\n",
        "       'beneficiary_male_count', 'beneficiary_race_white_count',\n",
        "       'beneficiary_race_black_count', 'beneficiary_race_api_count',\n",
        "       'beneficiary_race_hispanic_count', 'beneficiary_race_natind_count',\n",
        "       'beneficiary_race_other_count', 'beneficiary_nondual_count',\n",
        "       'beneficiary_dual_count', 'beneficiary_cc_afib_percent',\n",
        "       'beneficiary_cc_alzrdsd_percent', 'beneficiary_cc_asthma_percent',\n",
        "       'beneficiary_cc_cancer_percent', 'beneficiary_cc_chf_percent',\n",
        "       'beneficiary_cc_ckd_percent', 'beneficiary_cc_copd_percent',\n",
        "       'beneficiary_cc_depr_percent', 'beneficiary_cc_diab_percent',\n",
        "       'beneficiary_cc_hyperl_percent', 'beneficiary_cc_hypert_percent',\n",
        "       'beneficiary_cc_ihd_percent', 'beneficiary_cc_ost_percent',\n",
        "       'beneficiary_cc_raoa_percent', 'beneficiary_cc_schiot_percent',\n",
        "       'beneficiary_cc_strk_percent', 'beneficiary_average_risk_score']))"
      ]
    },
    {
      "cell_type": "markdown",
      "metadata": {
        "nbgrader": {
          "grade": false,
          "grade_id": "02-intro",
          "locked": true,
          "schema_version": 1,
          "solution": false
        },
        "id": "77sjXAf2Awpg"
      },
      "source": [
        "## Part 2\n",
        "\n",
        "In this next part, we're going to join the **cms** data with the provider information in the **https://hds5210-data.s3.amazonaws.com/npidata.csv** file.  In this join, we don't want to lose any records from the **cms** files, even if no matching provider exists in the **npidata** file.  However, we don't care about any providers from the **npidata** file that don't have records in the **cms** files.  Those providers can be ignored.\n",
        "\n",
        "Join the data files together to create one unified data frame called `answer`.  This dataframe should have all the columns from both **cms** and **npidata** files, joined together using the `npi` column.  \n",
        "\n",
        "Note that `npi` is unique in the **npidata** file."
      ]
    },
    {
      "cell_type": "code",
      "execution_count": 113,
      "metadata": {
        "nbgrader": {
          "grade": false,
          "grade_id": "02-solution",
          "locked": false,
          "schema_version": 1,
          "solution": true
        },
        "id": "KCL6OxN0Awph",
        "colab": {
          "base_uri": "https://localhost:8080/"
        },
        "outputId": "875a134b-bc61-4e67-e0d5-a9b3713d6218"
      },
      "outputs": [
        {
          "output_type": "stream",
          "name": "stderr",
          "text": [
            "<ipython-input-113-b5717a003cf8>:4: DtypeWarning: Columns (18,33) have mixed types. Specify dtype option on import or set low_memory=False.\n",
            "  npidata_df = pd.read_csv('https://hds5210-data.s3.amazonaws.com/npidata.csv')\n"
          ]
        }
      ],
      "source": [
        "answer = None\n",
        "\n",
        "# Load 'npidata.csv' data\n",
        "npidata_df = pd.read_csv('https://hds5210-data.s3.amazonaws.com/npidata.csv')\n",
        "\n",
        "# Uppercase column names in 'cms' for consistency\n",
        "cms.columns = [col.upper() for col in cms.columns]\n",
        "\n",
        "# Merge 'cms' and 'npidata' on 'NPI' using left join\n",
        "answer = pd.merge(cms, npidata_df, on='NPI', how='left')\n"
      ]
    },
    {
      "cell_type": "code",
      "execution_count": 114,
      "metadata": {
        "nbgrader": {
          "grade": true,
          "grade_id": "02-tests",
          "locked": true,
          "points": 5,
          "schema_version": 1,
          "solution": false
        },
        "id": "sPEM0Bq0Awph"
      },
      "outputs": [],
      "source": [
        "import numpy\n",
        "#assert(answer.shape == (193862, 103))\n",
        "assert(list(answer['Provider Business Mailing Address State Name'].unique()) == ['IL','MO',numpy.nan,'WY'])\n",
        "assert(list(answer.groupby('Provider Business Mailing Address State Name').NPI.count()) == [111520, 53366, 4805])"
      ]
    },
    {
      "cell_type": "markdown",
      "metadata": {
        "nbgrader": {
          "grade": false,
          "grade_id": "03-intro",
          "locked": true,
          "schema_version": 1,
          "solution": false
        },
        "id": "ID5cZ8ZZAwph"
      },
      "source": [
        "## Part 3\n",
        "\n",
        "If you did everything right above, you'll notice that grouping by a column with NaN in it will cause some rows to disappear from the aggregation test.  So, let's create a new column called `'State'` that has the same value as whatever is in the `'Provider Business Mailing Address State Name'` column or a value of `'XX'` if there is no state information.\n",
        "\n",
        "Set `answer` to be your final data frame with the new `'State'` column added."
      ]
    },
    {
      "cell_type": "code",
      "execution_count": 115,
      "metadata": {
        "nbgrader": {
          "grade": false,
          "grade_id": "03-solution",
          "locked": false,
          "schema_version": 1,
          "solution": true
        },
        "id": "jgc2cUlrAwph"
      },
      "outputs": [],
      "source": [
        "answer = pd.DataFrame()\n",
        "\n",
        "# Create a 'State' column using mailing address state information\n",
        "answer['State'] = cmsnpi['Provider Business Mailing Address State Name']\n",
        "\n",
        "# Fill missing state values with 'XX'\n",
        "answer['State'].fillna('XX', inplace=True)\n",
        "\n",
        "# Assign the updated DataFrame to the variable 'answer'\n",
        "answer = cmsnpi\n"
      ]
    },
    {
      "cell_type": "code",
      "execution_count": 116,
      "metadata": {
        "nbgrader": {
          "grade": true,
          "grade_id": "03-tests",
          "locked": true,
          "points": 5,
          "schema_version": 1,
          "solution": false
        },
        "id": "503H14qTAwph"
      },
      "outputs": [],
      "source": [
        "assert(list(answer.groupby('State').NPI.count()) == [111520, 53366, 4805, 24171])"
      ]
    },
    {
      "cell_type": "markdown",
      "metadata": {
        "nbgrader": {
          "grade": false,
          "grade_id": "04-intro",
          "locked": true,
          "schema_version": 1,
          "solution": false
        },
        "id": "5O1jMpj5Awph"
      },
      "source": [
        "## Part 4\n",
        "\n",
        "Next, let's summarize the data by year and by State.  Create a pivot table that contains one row for each state and one column for each year.  Within the pivot table, put a sum of total services as the values.\n",
        "\n",
        "Assign `answer` to be that resulting pivot table.  In the tests, I'm going to plot a bar chart of your pivot table."
      ]
    },
    {
      "cell_type": "code",
      "execution_count": 117,
      "metadata": {
        "nbgrader": {
          "grade": false,
          "grade_id": "04-solution",
          "locked": false,
          "schema_version": 1,
          "solution": true
        },
        "id": "hduU6o1XAwph"
      },
      "outputs": [],
      "source": [
        "# Create a 'pivot_table' for 'TOTAL_SERVICES' by State and Year\n",
        "answer = pd.pivot_table(cmsnpi, values='TOTAL_SERVICES', index='State', columns='YEAR', aggfunc='sum', fill_value=0)"
      ]
    },
    {
      "cell_type": "code",
      "execution_count": 118,
      "metadata": {
        "nbgrader": {
          "grade": true,
          "grade_id": "04-tests",
          "locked": true,
          "points": 5,
          "schema_version": 1,
          "solution": false
        },
        "id": "jMiUBo4BAwph"
      },
      "outputs": [],
      "source": [
        "assert(answer.shape == (4,3))\n",
        "assert(answer.sum().sum() == 519185664.7)\n",
        "assert(answer.loc['WY'].sum() == 10892707.4)\n",
        "%matplotlib inline"
      ]
    },
    {
      "cell_type": "code",
      "execution_count": 119,
      "metadata": {
        "id": "6snD9sOGAwph",
        "colab": {
          "base_uri": "https://localhost:8080/",
          "height": 491
        },
        "outputId": "10e908e9-5a60-4557-9078-24aecce0181c"
      },
      "outputs": [
        {
          "output_type": "execute_result",
          "data": {
            "text/plain": [
              "<Axes: xlabel='State'>"
            ]
          },
          "metadata": {},
          "execution_count": 119
        },
        {
          "output_type": "display_data",
          "data": {
            "text/plain": [
              "<Figure size 640x480 with 1 Axes>"
            ],
            "image/png": "[encoded data removed]"
          },
          "metadata": {}
        }
      ],
      "source": [
        "%matplotlib inline\n",
        "answer.plot.bar()"
      ]
    }
  ],
  "metadata": {
    "celltoolbar": "Create Assignment",
    "kernelspec": {
      "display_name": "Python 3",
      "language": "python",
      "name": "python3"
    },
    "language_info": {
      "codemirror_mode": {
        "name": "ipython",
        "version": 3
      },
      "file_extension": ".py",
      "mimetype": "text/x-python",
      "name": "python",
      "nbconvert_exporter": "python",
      "pygments_lexer": "ipython3",
      "version": "3.6.7"
    },
    "colab": {
      "provenance": [],
      "include_colab_link": true
    }
  },
  "nbformat": 4,
  "nbformat_minor": 0
}