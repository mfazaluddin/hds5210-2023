{
  "nbformat": 4,
  "nbformat_minor": 0,
  "metadata": {
    "colab": {
      "provenance": [],
      "include_colab_link": true
    },
    "kernelspec": {
      "name": "python3",
      "display_name": "Python 3"
    },
    "language_info": {
      "name": "python"
    }
  },
  "cells": [
    {
      "cell_type": "markdown",
      "metadata": {
        "id": "view-in-github",
        "colab_type": "text"
      },
      "source": [
        "<a href=\"https://colab.research.google.com/github/mfazaluddin/hds5210-2023/blob/main/week01/Assignment1.ipynb\" target=\"_parent\"><img src=\"https://colab.research.google.com/assets/colab-badge.svg\" alt=\"Open In Colab\"/></a>"
      ]
    },
    {
      "cell_type": "markdown",
      "source": [
        "# Week 1 Assignment\n",
        "\n",
        "The goal of this first assignment is to demonstrate that you know how to interact with Google Colab and GitHub using the process we'll be using to submit assignments and receive feedback in the course.  Complete the steps below:\n",
        "1. Open this notebook in Google Colab from my GitHub repository named `hds5210-2023`\n",
        "2. Edit the variables in the first cell below with your information\n",
        "3. Choose `Runtime->Run all` or `Runtime->Restart and run all`\n",
        "4. Save this notebook to the following path in your own GitHub repository: `week01/assignment1.ipynb`\n",
        "5. Verify that you can see your file in GitHub as noted in print statement\n"
      ],
      "metadata": {
        "id": "qMQiuSy_t3HW"
      }
    },
    {
      "cell_type": "code",
      "source": [
        "my_email = 'mohd.fazaluddin@slu.edu'\n",
        "my_github = 'mfazaluddin'\n",
        "my_repository = 'hds5210-2023'"
      ],
      "metadata": {
        "id": "6kehfhGeuocK"
      },
      "execution_count": null,
      "outputs": []
    },
    {
      "cell_type": "code",
      "source": [
        "from google.colab import drive\n",
        "drive.mount('/content/drive')"
      ],
      "metadata": {
        "id": "Hi6Xqm4outuf",
        "colab": {
          "base_uri": "https://localhost:8080/"
        },
        "outputId": "0b11ba99-5841-411a-9570-92386d48ebd4"
      },
      "execution_count": null,
      "outputs": [
        {
          "output_type": "stream",
          "name": "stdout",
          "text": [
            "Mounted at /content/drive\n"
          ]
        }
      ]
    },
    {
      "cell_type": "code",
      "source": [
        "print(f'''\n",
        "If I did this right, after saving to GitHub I'll see this file at http://github.com/{my_github}/{my_repository}/blob/main/week01/assignment1.ipynb\n",
        "''')"
      ],
      "metadata": {
        "colab": {
          "base_uri": "https://localhost:8080/"
        },
        "id": "sjDXGhlPus_k",
        "outputId": "48b82669-dfc9-409b-c6e4-fcf256281822"
      },
      "execution_count": null,
      "outputs": [
        {
          "output_type": "stream",
          "name": "stdout",
          "text": [
            "\n",
            "If I did this right, after saving to GitHub I'll see this file at http://github.com/mfazaluddin/hds5210-2023/blob/main/week01/assignment1.ipynb\n",
            "\n"
          ]
        }
      ]
    },
    {
      "cell_type": "code",
      "source": [],
      "metadata": {
        "id": "5EIjfSJxvCMz"
      },
      "execution_count": null,
      "outputs": []
    }
  ]
}