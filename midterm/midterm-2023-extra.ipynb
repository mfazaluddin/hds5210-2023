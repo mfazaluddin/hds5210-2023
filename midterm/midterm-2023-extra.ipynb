{
  "cells": [
    {
      "cell_type": "markdown",
      "metadata": {
        "id": "sLSs0OqS7pkK"
      },
      "source": [
        "# Extra Credit\n",
        "\n",
        "For upto an additional 15 extra credit points on the midterm exam, you can write another function that applies additional criteria on top of what the midterm already did.  To earn the addition points, you need write a function called `summarize_results(patients)` to take the output of your  `process_people()` function to apply a new business rule and summarize the results.\n",
        "\n",
        "* Your function should take the dictionary created by `process_people()` as it's one input parameter: `patients`.\n",
        "* If the PRIEST probably is less than 10%, change the `hospital` and `address` to both have a value of `'Home'` indicating patients with a lower probability of an adverse outcome can just go home rather than be admitted to a hospital.\n",
        "* Summarize those results and count how many patients are now being sent to each location.  Your result should have the following format:\n",
        "```\n",
        "{\n",
        "    \"Home\": 123,\n",
        "    \"Hospital A\": 10,\n",
        "    \"Hospital B\": 20,\n",
        "    \"Hospital C\": 30\n",
        "}\n",
        "```\n",
        "\n",
        "As always, your function needs good docstrings; but does not require any doctests in this case."
      ]
    },
    {
      "cell_type": "code",
      "execution_count": 5,
      "metadata": {
        "id": "XtYFk6Kk7pkR"
      },
      "outputs": [],
      "source": [
        "def summarize_results(patients):\n",
        "    \"\"\"(list) -> dict\n",
        "    Process patient data from a pipe-delimited file and return a list of dictionaries.\n",
        "    \"\"\"\n",
        "    result = []\n",
        "    occurrence_count = {}\n",
        "\n",
        "    for patient in patients:\n",
        "        for patient_number, data in patient.items():\n",
        "            [sex, age, breath, o2sat, heart, systolic, temp, alertness, inspired, status, hospital, address] = data\n",
        "            risk = priest(sex, int(age), int(breath), int(float(o2sat) * 100), int(heart), int(systolic), float(temp), alertness, inspired, status)\n",
        "\n",
        "            if risk < 0.01:\n",
        "                hospital = 'Home'\n",
        "                address = 'Home'\n",
        "\n",
        "            patient_data = {\n",
        "                patient_number: [sex, age, breath, o2sat, heart, systolic, temp, alertness, inspired, status, hospital, address]\n",
        "            }\n",
        "\n",
        "            result.append(patient_data)\n",
        "\n",
        "\n",
        "\n",
        "            for data_dict in result:\n",
        "                if len(data_dict) == 1:\n",
        "                    value_list = list(data_dict.values())[0]\n",
        "                    if len(value_list) >= 11:\n",
        "                        element_11 = value_list[10]\n",
        "                        occurrence_count[element_11] = occurrence_count.get(element_11, 0) + 1\n",
        "\n",
        "\n",
        "\n",
        "\n",
        "    return occurrence_count"
      ]
    },
    {
      "cell_type": "code",
      "execution_count": 6,
      "metadata": {
        "colab": {
          "base_uri": "https://localhost:8080/",
          "height": 175
        },
        "id": "tTwc22cp7pkS",
        "outputId": "5fb6612a-78f3-4f8c-e3e6-b3da39bfbe63"
      },
      "outputs": [
        {
          "output_type": "error",
          "ename": "NameError",
          "evalue": "ignored",
          "traceback": [
            "\u001b[0;31m---------------------------------------------------------------------------\u001b[0m",
            "\u001b[0;31mNameError\u001b[0m                                 Traceback (most recent call last)",
            "\u001b[0;32m<ipython-input-6-c40848c07eec>\u001b[0m in \u001b[0;36m<cell line: 1>\u001b[0;34m()\u001b[0m\n\u001b[0;32m----> 1\u001b[0;31m \u001b[0mprint\u001b[0m\u001b[0;34m(\u001b[0m\u001b[0msummarize_results\u001b[0m\u001b[0;34m(\u001b[0m\u001b[0mprocess_people\u001b[0m\u001b[0;34m(\u001b[0m\u001b[0;34m\"https://hds5210-data.s3.amazonaws.com/people.psv\"\u001b[0m\u001b[0;34m)\u001b[0m\u001b[0;34m)\u001b[0m\u001b[0;34m)\u001b[0m\u001b[0;34m\u001b[0m\u001b[0;34m\u001b[0m\u001b[0m\n\u001b[0m",
            "\u001b[0;31mNameError\u001b[0m: name 'process_people' is not defined"
          ]
        }
      ],
      "source": [
        "print(summarize_results(process_people(\"https://hds5210-data.s3.amazonaws.com/people.psv\")))"
      ]
    }
  ],
  "metadata": {
    "kernelspec": {
      "display_name": ".venv",
      "language": "python",
      "name": "python3"
    },
    "language_info": {
      "codemirror_mode": {
        "name": "ipython",
        "version": 3
      },
      "file_extension": ".py",
      "mimetype": "text/x-python",
      "name": "python",
      "nbconvert_exporter": "python",
      "pygments_lexer": "ipython3",
      "version": "3.9.16"
    },
    "colab": {
      "provenance": []
    }
  },
  "nbformat": 4,
  "nbformat_minor": 0
}