{
  "cells": [
    {
      "cell_type": "markdown",
      "metadata": {
        "id": "OMG196_-hVKx"
      },
      "source": [
        "# HDS5210-2022 Midterm\n",
        "\n",
        "In the midterm, you're going to use all the programming and data management skills you've developed so far to build a risk calculator that pretends to be integrated with a clinical registry.  You'll compute the PRIEST COVID-19 Clinical Severity Score for a series of patients and, based on their risk of an adverse outcome, query a REST web service to find a hospital to transfer them to. The end result of your work will be a list of instructions on where each patient should be discharged given their risk and various characteristics of the patient.\n",
        "\n",
        "Each step in the midterm will build up to form your complete solution.\n",
        "\n",
        "**Make sure you write good docstrings and doctests along the way!!**\n",
        "\n",
        "**The midterm is due at 11:59 PM CST on Monday, October 23rd.**\n",
        "\n",
        "---"
      ]
    },
    {
      "cell_type": "markdown",
      "metadata": {
        "id": "CFmQhiHYhVK1"
      },
      "source": [
        "## Step 1: Calculate PRIEST Clinical Severity Score\n",
        "\n",
        "This scoring algorithm can be found [here on the MDCalc website](https://www.mdcalc.com/priest-covid-19-clinical-severity-score#evidence).  \n",
        "\n",
        "1. You will need to write a function called **priest()** with the following input parameters.  \n",
        " * Sex (Gender assigned at birth)\n",
        " * Age in years\n",
        " * Respiratory rate in breaths per minute\n",
        " * Oxygen saturation as a percent between 0 and 1\n",
        " * Heart rate in beats per minute\n",
        " * Systolic BP in mmHg\n",
        " * Temperature in degrees C\n",
        " * Alertness as a string description\n",
        " * Inspired Oxygen as as string description\n",
        " * Performance Status as a string description\n",
        "2. The function will need to follow the algorithm provided on the MDCalc website to compute a risk percentage that should be returned as a numeric value between 0 and 1.\n",
        "3. Be sure to use docstring documentation and at least three built-in docstring test cases.\n",
        "4. Assume that the input values that are strings could be any combination of upper or lower case. For example: 'male', 'Male', 'MALE', 'MalE' should all be interpretted by your code as male.\n",
        "5. If any of the inputs are invalid (for example a sex value that is not recognizable as male or female) your code should return None.\n",
        "\n",
        "NOTES:\n",
        "1. In the final step there is a table that translates from **PRIEST Score** to **30-day probability of an outcome** but the last two probabilities are shown as ranges (59-88% and >99%).  Our code needs to output a single number, however. For our code, use the following rule:\n",
        " * If PRIEST score is between 17 and 25, the probability you return should be 0.59\n",
        " * If PRIEST score is greater than or equal to 26, the probability you return should be 0.99\n"
      ]
    },
    {
      "cell_type": "code",
      "execution_count": 39,
      "metadata": {
        "id": "tt7xgQNJhVK2"
      },
      "outputs": [],
      "source": [
        "def priest(sex, age, respiratory_rate, oxygen_saturation, heart_rate, systolic_bp, temperature, alertness, inspired_oxygen, performance_status):\n",
        "    \"\"\"\n",
        "    (str, int, int, int, int, int, float, str, str, str) -> float\n",
        "\n",
        "    This function calculate the PRIEST score and return the 30-day probability of an outcome.\n",
        "\n",
        "    >>> priest(\"Male\", 82, 25, 91, 131, 99, 38.3, \"Alert\", \"Air\", \"Unrestricted Normal Activity\")\n",
        "    0.59\n",
        "\n",
        "    >>> priest(\"Female\", 83, 28, 88, 140, 223, 40.0, \"Confused or Not Alert\", \"Supplemental Oxygen\", \"Bed/chair bound, no self-care\")\n",
        "    0.99\n",
        "\n",
        "    >>> priest(\"Unknown\", 70, 8, 92, 90, 120, 36.5, \"Alert\", \"Air\", \"Unrestricted Normal Activity\") is None\n",
        "    True\n",
        "    \"\"\"\n",
        "\n",
        "    sex = sex.lower()\n",
        "    alertness = alertness.lower()\n",
        "    inspired_oxygen = inspired_oxygen.lower()\n",
        "    performance_status = performance_status.lower()\n",
        "\n",
        "    sex_score = 0 if sex == \"female\" else 1 if sex == \"male\" else None\n",
        "\n",
        "    if 16 <= age <= 49:\n",
        "        age_score = 0\n",
        "    elif 50 <= age <= 65:\n",
        "        age_score = 2\n",
        "    elif 66 <= age <= 80:\n",
        "        age_score = 3\n",
        "    elif age > 80:\n",
        "        age_score = 4\n",
        "    else:\n",
        "        age_score = None\n",
        "\n",
        "    if respiratory_rate < 9:\n",
        "        resp_rate_score = 3\n",
        "    elif 9 <= respiratory_rate <= 11:\n",
        "        resp_rate_score = 1\n",
        "    elif 12 <= respiratory_rate <= 20:\n",
        "        resp_rate_score = 0\n",
        "    elif 21 <= respiratory_rate <= 24:\n",
        "        resp_rate_score = 2\n",
        "    elif respiratory_rate > 24:\n",
        "        resp_rate_score = 3\n",
        "    else:\n",
        "        resp_rate_score = None\n",
        "\n",
        "    if oxygen_saturation > 95:\n",
        "        oxygen_score = 0\n",
        "    elif 94 <= oxygen_saturation <= 95:\n",
        "        oxygen_score = 1\n",
        "    elif 92 <= oxygen_saturation <= 93:\n",
        "        oxygen_score = 2\n",
        "    elif oxygen_saturation < 92:\n",
        "        oxygen_score = 3\n",
        "    else:\n",
        "        oxygen_score = None\n",
        "\n",
        "    if heart_rate < 41:\n",
        "        heart_rate_score = 3\n",
        "    elif 41 <= heart_rate <= 50:\n",
        "        heart_rate_score = 1\n",
        "    elif 51 <= heart_rate <= 90:\n",
        "        heart_rate_score = 0\n",
        "    elif 91 <= heart_rate <= 110:\n",
        "        heart_rate_score = 1\n",
        "    elif 111 <= heart_rate <= 130:\n",
        "        heart_rate_score = 2\n",
        "    elif heart_rate > 130:\n",
        "        heart_rate_score = 3\n",
        "    else:\n",
        "        heart_rate_score = None\n",
        "\n",
        "    if systolic_bp < 91:\n",
        "        bp_score = 3\n",
        "    elif 91 <= systolic_bp <= 100:\n",
        "        bp_score = 2\n",
        "    elif 101 <= systolic_bp <= 110:\n",
        "        bp_score = 1\n",
        "    elif 111 <= systolic_bp <= 219:\n",
        "        bp_score = 0\n",
        "    elif systolic_bp > 219:\n",
        "        bp_score = 3\n",
        "    else:\n",
        "        bp_score = None\n",
        "\n",
        "    if temperature < 35.1:\n",
        "        temp_score = 3\n",
        "    elif 35.1 <= temperature <= 36.0:\n",
        "        temp_score = 1\n",
        "    elif 36.1 <= temperature <= 38.0:\n",
        "        temp_score = 0\n",
        "    elif 38.1 <= temperature <= 39.0:\n",
        "        temp_score = 1\n",
        "    elif temperature > 39.0:\n",
        "        temp_score = 2\n",
        "    else:\n",
        "        temp_score = None\n",
        "\n",
        "    alertness_score = 0 if alertness == \"alert\" else 3 if alertness == \"confused or not alert\" else None\n",
        "\n",
        "    inspired_oxygen_score = 0 if inspired_oxygen == \"air\" else 2 if inspired_oxygen == \"supplemental oxygen\" else None\n",
        "\n",
        "    if performance_status == \"unrestricted normal activity\":\n",
        "        performance_status_score = 0\n",
        "    elif performance_status == \"limited strenuous activity, can do light activity\":\n",
        "        performance_status_score = 1\n",
        "    elif performance_status == \"limited activity, can self-care\":\n",
        "        performance_status_score = 2\n",
        "    elif performance_status == \"limited self-care\":\n",
        "        performance_status_score = 3\n",
        "    elif performance_status == \"bed/chair bound, no self-care\":\n",
        "        performance_status_score = 4\n",
        "    else:\n",
        "        performance_status_score = None\n",
        "\n",
        "    # Checking for invalid input values\n",
        "    if None in [sex_score, age_score, resp_rate_score, oxygen_score, heart_rate_score, bp_score, temp_score, alertness_score, inspired_oxygen_score, performance_status_score]:\n",
        "        return None\n",
        "\n",
        "    # Sum up PRIEST score\n",
        "    priest_score = (\n",
        "        sex_score\n",
        "        + age_score\n",
        "        + resp_rate_score\n",
        "        + oxygen_score\n",
        "        + heart_rate_score\n",
        "        + bp_score\n",
        "        + temp_score\n",
        "        + alertness_score\n",
        "        + inspired_oxygen_score\n",
        "        + performance_status_score\n",
        "    )\n",
        "\n",
        "    # Finding the 30-day probability based on PRIEST score\n",
        "    if priest_score >= 0 and priest_score <= 1:\n",
        "        return 0.01\n",
        "    elif priest_score >= 2 and priest_score <= 3:\n",
        "        return 0.02\n",
        "    elif 17 <= priest_score <= 25:\n",
        "        return 0.59\n",
        "    elif priest_score >= 26:\n",
        "        return 0.99\n",
        "    elif priest_score >= 4:\n",
        "        return 0.03\n",
        "    elif priest_score == 5:\n",
        "        return 0.09\n",
        "    elif priest_score == 6:\n",
        "        return 0.15\n",
        "    elif priest_score == 7:\n",
        "        return 0.18\n",
        "    elif priest_score == 8:\n",
        "        return 0.22\n",
        "    elif priest_score == 9:\n",
        "        return 0.26\n",
        "    elif priest_score == 10:\n",
        "        return 0.29\n",
        "    elif priest_score == 11:\n",
        "        return 0.34\n",
        "    elif priest_score == 12:\n",
        "        return 0.38\n",
        "    elif priest_score == 13:\n",
        "        return 0.46\n",
        "    elif priest_score == 14:\n",
        "        return 0.47\n",
        "    elif priest_score == 15:\n",
        "        return 0.49\n",
        "    elif priest_score == 16:\n",
        "        return 0.55\n",
        "    else:\n",
        "        return None"
      ]
    },
    {
      "cell_type": "code",
      "execution_count": 40,
      "metadata": {
        "id": "ldckcW7YhVK3",
        "outputId": "27a62c27-fdc6-4082-ff16-9feca9eef570",
        "colab": {
          "base_uri": "https://localhost:8080/"
        }
      },
      "outputs": [
        {
          "output_type": "stream",
          "name": "stdout",
          "text": [
            "Finding tests in NoName\n",
            "Trying:\n",
            "    priest(\"Male\", 82, 25, 91, 131, 99, 38.3, \"Alert\", \"Air\", \"Unrestricted Normal Activity\")\n",
            "Expecting:\n",
            "    0.59\n",
            "ok\n",
            "Trying:\n",
            "    priest(\"Female\", 83, 28, 88, 140, 223, 40.0, \"Confused or Not Alert\", \"Supplemental Oxygen\", \"Bed/chair bound, no self-care\")\n",
            "Expecting:\n",
            "    0.99\n",
            "ok\n",
            "Trying:\n",
            "    priest(\"Unknown\", 70, 8, 92, 90, 120, 36.5, \"Alert\", \"Air\", \"Unrestricted Normal Activity\") is None\n",
            "Expecting:\n",
            "    True\n",
            "ok\n"
          ]
        }
      ],
      "source": [
        "import doctest\n",
        "doctest.run_docstring_examples(priest, globals(),verbose=True)"
      ]
    },
    {
      "cell_type": "markdown",
      "metadata": {
        "id": "_4k_lUdQhVK4"
      },
      "source": [
        "## Part 2: Find a hospital\n",
        "\n",
        "The next thing we have to do is figure out where to send this particular patient.  The guidelines on where to send a patient are based on their age (pediatric, adult, geriatric), sex, and risk percentage.  Luckily, you don't have to implement these rules. I already have. All you have to do is use a REST web service that I've created for you.\n",
        "\n",
        "You'll want to use Python to make a call to my REST web service similar to the example URL below. The first part of the URL will be the same for everyone and every request that you make. What you will need to modify for each of your requests is the information after the question mark.\n",
        "\n",
        "```\n",
        "https://oumdj6oci2.execute-api.us-east-1.amazonaws.com/prd/?age=40&sex=male&risk_pct=0.1\n",
        "```\n",
        "\n",
        "The example above asks my web service where a 40-year old male with a risk of 10% should go.  What the web service will return back is a JSON string containing the information you need.  That JSON will look like this:\n",
        "\n",
        "```json\n",
        "{\n",
        "  \"age\": \"40\",\n",
        "  \"sex\": \"male\",\n",
        "  \"risk\": \"0.1\",\n",
        "  \"hospital\": \"Southwest Hospital and Medical Center\"\n",
        "}\n",
        "```\n",
        "\n",
        "My function is not smart enough to understand `'MALE'` is the same as `'male'`.  You have to send it exactly `'male'` or `'female'`\n",
        "\n",
        "1. Your job is to write a function called **find_hospital()** that takes age, sex, and risk as parameters.\n",
        "2. Your function should call this REST web service using the `requests` module\n",
        "3. Then your function will need to interpret the JSON it gets and return just the name of the hospital\n",
        "4. If anything fails, return None\n",
        "5. Include a good docstring with at least three test cases.\n"
      ]
    },
    {
      "cell_type": "code",
      "execution_count": 41,
      "metadata": {
        "id": "Bll-KSUlhVK5"
      },
      "outputs": [],
      "source": [
        "import requests\n",
        "\n",
        "def find_hospital(age, sex, risk):\n",
        "    \"\"\"(int, str, float) -> str\n",
        "    This function calls a REST web service to determine the hospital for a patient based on age, sex, and risk.\n",
        "\n",
        "    >>> find_hospital(43, 'male', 0.4)\n",
        "    'Emory Dunwoody Medical Center'\n",
        "\n",
        "    >>> find_hospital(72, 'female', 0.02)\n",
        "    'Wesley Woods Geriatric Hospital'\n",
        "\n",
        "    >>> find_hospital(40, 'male', 0.3)\n",
        "    'Southwest Hospital and Medical Center'\n",
        "    \"\"\"\n",
        "    # Base URL for the REST web service\n",
        "    base_url = \"https://oumdj6oci2.execute-api.us-east-1.amazonaws.com/prd/\"\n",
        "\n",
        "    # Prepare extended URL by appending parameters in query parameters\n",
        "    url = f\"{base_url}?age={age}&sex={sex}&risk_pct={risk}\"\n",
        "\n",
        "    try:\n",
        "        # HTTP GET request\n",
        "        response = requests.get(url)\n",
        "\n",
        "        # Validate if the request was successful by checking the status code\n",
        "        if response.status_code == 200:\n",
        "            data = response.json()\n",
        "            return data.get(\"hospital\")\n",
        "        else:\n",
        "            return None\n",
        "\n",
        "    except Exception as e:\n",
        "        print(f\"Error: {e}\")\n",
        "        return None\n"
      ]
    },
    {
      "cell_type": "code",
      "execution_count": 42,
      "metadata": {
        "id": "WUXwhp39hVK5",
        "outputId": "4c0e34eb-38f8-4a7f-8bf6-c8d66154d1fb",
        "colab": {
          "base_uri": "https://localhost:8080/"
        }
      },
      "outputs": [
        {
          "output_type": "stream",
          "name": "stdout",
          "text": [
            "Finding tests in NoName\n",
            "Trying:\n",
            "    find_hospital(43, 'male', 0.4)\n",
            "Expecting:\n",
            "    'Emory Dunwoody Medical Center'\n",
            "ok\n",
            "Trying:\n",
            "    find_hospital(72, 'female', 0.02)\n",
            "Expecting:\n",
            "    'Wesley Woods Geriatric Hospital'\n",
            "ok\n",
            "Trying:\n",
            "    find_hospital(40, 'male', 0.3)\n",
            "Expecting:\n",
            "    'Southwest Hospital and Medical Center'\n",
            "ok\n"
          ]
        }
      ],
      "source": [
        "import doctest\n",
        "doctest.run_docstring_examples(find_hospital, globals(),verbose=True)"
      ]
    },
    {
      "cell_type": "markdown",
      "metadata": {
        "id": "dif4gm9QhVK6"
      },
      "source": [
        "## Part 3: Get the address for that hospital from a JSON file\n",
        "\n",
        "Great! Now we have code to tell us which hospital to send someone to... but we don't know where that hospital is. The next function we need to create is one that looks up the address of that hospital.  All of these hospitals are in Atlanta, Georgia.  We're going to use the list from this webpage to lookup the address for that hospital, based on its name.  https://www.officialusa.com/stateguides/health/hospitals/georgia.html\n",
        "\n",
        "Because we skipped the section about Beautiful Soup and working with HTML, I've converted this information into a JSON document for you.  It's available for you here.  Your code should retrieve this file using the `requests` module.\n",
        "\n",
        "`https://drive.google.com/uc?export=download&id=1fIFD-NkcdiMu941N4GjyMDWxiKsFJBw-`\n",
        "\n",
        "1. You need to create a function called **get_address()** that takes hospital name as a parameter and searches the data from this JSON file for the hospital you want to find.\n",
        "2. Your code will have to load the JSON and return the correct hospital based on name.\n",
        "3. If the hospital name isn't found, the function should return None.\n",
        "4. Be sure to use good docstring documentation and includes at least 3 test cases."
      ]
    },
    {
      "cell_type": "code",
      "execution_count": 43,
      "metadata": {
        "id": "Z-TE7qtbhVK6"
      },
      "outputs": [],
      "source": [
        "import json\n",
        "\n",
        "def get_address(hospital_name):\n",
        "    \"\"\"(str) -> str\n",
        "    This function retrieves the address of a hospital in Atlanta region in Georgia based on its name.\n",
        "\n",
        "    Example:\n",
        "    >>> get_address(\"WELLSTAR SPALDING REGIONAL HOSPITAL\")\n",
        "    '601 SOUTH 8TH STREET'\n",
        "\n",
        "    >>> get_address(\"LOUIS SMITH MEMORIAL HOSPITAL\")\n",
        "    '116 WEST THIGPEN AVENUE'\n",
        "\n",
        "    >>> get_address(\"CHILDRENS HOSPITAL NAVICENT HEALTH\")\n",
        "    '888 PINE STREET'\n",
        "    \"\"\"\n",
        "    # URL for the JSON file containing hospital data\n",
        "    json_url = \"https://hds5210-data.s3.amazonaws.com/ga_hospitals.json\"\n",
        "\n",
        "    try:\n",
        "        # Fetch the JSON file\n",
        "        response = requests.get(json_url)\n",
        "\n",
        "        if response.status_code == 200:\n",
        "            hospitals_data = json.loads(response.text)\n",
        "\n",
        "            # Look for the hospital by its name\n",
        "            hospital_data = hospitals_data.get(hospital_name)\n",
        "\n",
        "            # If the hospital is found then return its address\n",
        "            if hospital_data:\n",
        "                return hospital_data.get(\"ADDRESS\")\n",
        "\n",
        "            return None\n",
        "        else:\n",
        "            return None\n",
        "\n",
        "    except Exception as e:\n",
        "        print(f\"Error: {e}\")\n",
        "        return None"
      ]
    },
    {
      "cell_type": "code",
      "source": [
        "import doctest\n",
        "doctest.run_docstring_examples(get_address, globals(),verbose=True)"
      ],
      "metadata": {
        "id": "TOgjtJtM3bGO",
        "outputId": "f58bc935-e124-4a5d-87de-7bb3def6edd0",
        "colab": {
          "base_uri": "https://localhost:8080/"
        }
      },
      "execution_count": 44,
      "outputs": [
        {
          "output_type": "stream",
          "name": "stdout",
          "text": [
            "Finding tests in NoName\n",
            "Trying:\n",
            "    get_address(\"WELLSTAR SPALDING REGIONAL HOSPITAL\")\n",
            "Expecting:\n",
            "    '601 SOUTH 8TH STREET'\n",
            "ok\n",
            "Trying:\n",
            "    get_address(\"LOUIS SMITH MEMORIAL HOSPITAL\")\n",
            "Expecting:\n",
            "    '116 WEST THIGPEN AVENUE'\n",
            "ok\n",
            "Trying:\n",
            "    get_address(\"CHILDRENS HOSPITAL NAVICENT HEALTH\")\n",
            "Expecting:\n",
            "    '888 PINE STREET'\n",
            "ok\n"
          ]
        }
      ]
    },
    {
      "cell_type": "markdown",
      "metadata": {
        "id": "P5UXvGumhVK6"
      },
      "source": [
        "## Part 4: Run the risk calculator on a population\n",
        "\n",
        "At the link below, there is a file called `people.psv`.  It is a pipe-delimited (`|`) file with columns that match the inputs for the PRIEST calculation above.  Your code should use the `requests` module to retrieve the file from this URL.\n",
        "\n",
        "`https://drive.google.com/uc?export=download&id=1fLxJN9YGUqmqExrilxSS8furwUER5HHh`\n",
        "\n",
        "\n",
        "In addition, the file has a patient identifier in the first column.\n",
        "\n",
        "1. Write a function called **process_people()** that takes the file location above as its only parameter. Your Python program should use your code above to process all of these rows, determine the hospital and address, and return a list whose items are a dictionary like this: `{ patient_number: [sex, age, breath, o2sat, heart, systolic, temp, alertness, inspired, status, hospital, address]}`.  Look at the file in Part 5 for what the output looks like.\n",
        "2. Be sure to use good docstrings, but you don't need any tests in your doc strings.  I've provided those for you withe file in Part 5.\n",
        "\n",
        "\n",
        "**NOTE** that when running your code for all the 100 records in the `people.psv` file, it may take a few minutes to complete.  You're making multiple calls to the internet for each record, so that can take a little while.\n"
      ]
    },
    {
      "cell_type": "code",
      "execution_count": 45,
      "metadata": {
        "id": "jjFl73XjhVK7"
      },
      "outputs": [],
      "source": [
        "def process_people(file_location):\n",
        "    \"\"\"(str) -> json\n",
        "    Process patient data from a pipe-delimited file and return a list of dictionaries.\n",
        "    \"\"\"\n",
        "\n",
        "    response = requests.get(file_location)\n",
        "\n",
        "    if response.status_code != 200:\n",
        "        return []\n",
        "\n",
        "    data = response.text.splitlines()[1:]\n",
        "    result = []\n",
        "\n",
        "    for line in data:\n",
        "        # Split the line into fields\n",
        "        fields = line.strip().split('|')\n",
        "\n",
        "        if len(fields) >= 11:\n",
        "            patient_number, sex, age, breath, o2sat, heart, systolic, temp, alertness, inspired, status = fields[:11]\n",
        "            risk = priest(sex, int(age), int(breath), int(float(o2sat) * 100), int(heart), int(systolic), float(temp), alertness, inspired, status)\n",
        "            hospital = find_hospital(age, sex.lower(), risk)\n",
        "            address = get_address(hospital.upper())\n",
        "            patient_data = {\n",
        "                patient_number: [sex, age, breath, o2sat, heart, systolic, temp, alertness, inspired, status, hospital, address]\n",
        "            }\n",
        "            result.append(patient_data)\n",
        "\n",
        "    return result"
      ]
    },
    {
      "cell_type": "code",
      "source": [
        "print(process_people(\"https://hds5210-data.s3.amazonaws.com/people.psv\"))"
      ],
      "metadata": {
        "id": "M4HOZT7v3r_S",
        "outputId": "7b85ad92-e911-4cf1-adfe-aa2125121155",
        "colab": {
          "base_uri": "https://localhost:8080/"
        }
      },
      "execution_count": 46,
      "outputs": [
        {
          "output_type": "stream",
          "name": "stdout",
          "text": [
            "[{'E9559': ['FEMALE', '40', '24', '0.96', '105', '115', '34.9', 'ALERT', 'AIR', 'unrestricted normal activity', 'Select Specialty Hospital - Northeast Atlanta', '1821 CLIFTON ROAD NE']}, {'E9385': ['Female', '51', '19', '0.99', '90', '91', '38.1', 'ALERT', 'supplemental oxygen', 'unrestricted normal activity', 'Select Specialty Hospital - Northeast Atlanta', '1821 CLIFTON ROAD NE']}, {'E3067': ['female', '40', '29', '0.96', '105', '95', '38.1', 'ALERT', 'air', 'unrestricted normal activity', 'Select Specialty Hospital - Northeast Atlanta', '1821 CLIFTON ROAD NE']}, {'E9422': ['FEMALE', '66', '19', '0.96', '135', '115', '38.1', 'ALERT', 'AIR', 'bed/chair bound, no self-care', 'Wesley Woods Geriatric Hospital', '1821 CLIFTON ROAD, NE']}, {'E8661': ['MALE', '18', '22', '0.95', '105', '115', '36.3', 'Confused or Not Alert', 'air', 'unrestricted normal activity', 'Southwest Hospital and Medical Center', '501 FAIRBURN ROAD SW']}, {'E6235': ['Male', '16', '23', '0.96', '135', '115', '39.2', 'ALERT', 'supplemental oxygen', 'unrestricted normal activity', 'Childrens Healthcare of Atlanta at Scottish Rite', '1001 JOHNSON FERRY RD']}, {'E4451': ['MALE', '40', '8', '0.96', '135', '115', '38.1', 'ALERT', 'AIR', 'unrestricted normal activity', 'Southwest Hospital and Medical Center', '501 FAIRBURN ROAD SW']}, {'E8433': ['FEMALE', '40', '23', '0.99', '89', '91', '38.1', 'ALERT', 'AIR', 'limited self-care', 'Select Specialty Hospital - Northeast Atlanta', '1821 CLIFTON ROAD NE']}, {'E7593': ['FEMALE', '80', '23', '0.96', '105', '115', '38.1', 'ALERT', 'supplemental oxygen', 'limited activity, can self-care', 'Wesley Woods Geriatric Hospital', '1821 CLIFTON ROAD, NE']}, {'E3296': ['MALE', '51', '23', '0.95', '105', '115', '38.1', 'ALERT', 'AIR', 'unrestricted normal activity', 'Southwest Hospital and Medical Center', '501 FAIRBURN ROAD SW']}, {'E4157': ['FEMALE', '40', '23', '0.96', '41', '115', '35.4', 'ALERT', 'AIR', 'unrestricted normal activity', 'Select Specialty Hospital - Northeast Atlanta', '1821 CLIFTON ROAD NE']}, {'E7702': ['FEMALE', '40', '22', '0.96', '105', '115', '38.1', 'ALERT', 'supplemental oxygen', 'unrestricted normal activity', 'Select Specialty Hospital - Northeast Atlanta', '1821 CLIFTON ROAD NE']}, {'E8158': ['MALE', '40', '20', '0.99', '135', '115', '39.2', 'ALERT', 'AIR', 'unrestricted normal activity', 'Southwest Hospital and Medical Center', '501 FAIRBURN ROAD SW']}, {'E4795': ['female', '80', '11', '0.93', '105', '95', '40.8', 'ALERT', 'AIR', 'limited activity, can self-care', 'Wesley Woods Geriatric Hospital', '1821 CLIFTON ROAD, NE']}, {'E8800': ['MALE', '80', '22', '0.96', '105', '115', '39.2', 'confused or not alert', 'AIR', 'limited activity, can self-care', 'Wesley Woods Geriatric Hospital', '1821 CLIFTON ROAD, NE']}, {'E4855': ['female', '51', '23', '0.94', '135', '115', '38.1', 'ALERT', 'AIR', 'limited strenuous activity, can do light activity', 'Select Specialty Hospital - Northeast Atlanta', '1821 CLIFTON ROAD NE']}, {'E9691': ['Male', '16', '10', '0.96', '105', '115', '38.1', 'ALERT', 'AIR', 'unrestricted normal activity', 'Childrens Healthcare of Atlanta at Scottish Rite', '1001 JOHNSON FERRY RD']}, {'E4535': ['FEMALE', '19', '11', '0.99', '105', '115', '35.4', 'ALERT', 'AIR', 'unrestricted normal activity', 'Select Specialty Hospital - Northeast Atlanta', '1821 CLIFTON ROAD NE']}, {'E2360': ['Male', '40', '20', '0.96', '51', '95', '34.9', 'alert', 'supplemental oxygen', 'unrestricted normal activity', 'Southwest Hospital and Medical Center', '501 FAIRBURN ROAD SW']}, {'E3447': ['MALE', '80', '22', '0.96', '41', '115', '38.1', 'ALERT', 'AIR', 'limited activity, can self-care', 'Wesley Woods Geriatric Hospital', '1821 CLIFTON ROAD, NE']}, {'E8208': ['FEMALE', '18', '23', '0.96', '135', '115', '38.1', 'ALERT', 'AIR', 'unrestricted normal activity', 'Select Specialty Hospital - Northeast Atlanta', '1821 CLIFTON ROAD NE']}, {'E4428': ['FEMALE', '40', '23', '0.96', '38', '115', '36.3', 'ALERT', 'AIR', 'unrestricted normal activity', 'Select Specialty Hospital - Northeast Atlanta', '1821 CLIFTON ROAD NE']}, {'E2766': ['Male', '18', '23', '0.96', '105', '115', '34.9', 'ALERT', 'AIR', 'unrestricted normal activity', 'Southwest Hospital and Medical Center', '501 FAIRBURN ROAD SW']}, {'E3888': ['FEMALE', '51', '19', '0.96', '135', '115', '34.9', 'ALERT', 'AIR', 'unrestricted normal activity', 'Select Specialty Hospital - Northeast Atlanta', '1821 CLIFTON ROAD NE']}, {'E7110': ['female', '85', '24', '0.99', '105', '101', '40.8', 'Confused or Not Alert', 'AIR', 'unrestricted normal activity', 'Wesley Woods Geriatric Hospital', '1821 CLIFTON ROAD, NE']}, {'E2668': ['FEMALE', '18', '22', '0.96', '105', '101', '38.1', 'ALERT', 'AIR', 'unrestricted normal activity', 'Select Specialty Hospital - Northeast Atlanta', '1821 CLIFTON ROAD NE']}, {'E8482': ['Male', '40', '22', '0.96', '105', '230', '36.3', 'ALERT', 'AIR', 'limited self-care', 'Southwest Hospital and Medical Center', '501 FAIRBURN ROAD SW']}, {'E9619': ['FEMALE', '40', '11', '0.98', '41', '115', '38.1', 'ALERT', 'AIR', 'unrestricted normal activity', 'Select Specialty Hospital - Northeast Atlanta', '1821 CLIFTON ROAD NE']}, {'E1700': ['male', '40', '23', '0.96', '105', '115', '38.1', 'Confused or Not Alert', 'AIR', 'unrestricted normal activity', 'Southwest Hospital and Medical Center', '501 FAIRBURN ROAD SW']}, {'E8585': ['MALE', '19', '8', '0.96', '105', '115', '36.3', 'alert', 'AIR', 'bed/chair bound, no self-care', 'Southwest Hospital and Medical Center', '501 FAIRBURN ROAD SW']}, {'E8633': ['FEMALE', '40', '22', '0.96', '38', '91', '35.4', 'ALERT', 'AIR', 'unrestricted normal activity', 'Select Specialty Hospital - Northeast Atlanta', '1821 CLIFTON ROAD NE']}, {'E2117': ['FEMALE', '16', '22', '0.96', '135', '115', '39.2', 'Confused or Not Alert', 'supplemental oxygen', 'bed/chair bound, no self-care', 'Childrens Healthcare of Atlanta at Scottish Rite', '1001 JOHNSON FERRY RD']}, {'E2322': ['female', '18', '22', '0.96', '105', '115', '38.1', 'alert', 'supplemental oxygen', 'unrestricted normal activity', 'Select Specialty Hospital - Northeast Atlanta', '1821 CLIFTON ROAD NE']}, {'E6912': ['FEMALE', '51', '23', '0.96', '105', '95', '34.9', 'ALERT', 'AIR', 'unrestricted normal activity', 'Select Specialty Hospital - Northeast Atlanta', '1821 CLIFTON ROAD NE']}, {'E5702': ['Male', '80', '23', '0.96', '135', '115', '38.1', 'ALERT', 'AIR', 'unrestricted normal activity', 'Wesley Woods Geriatric Hospital', '1821 CLIFTON ROAD, NE']}, {'E5513': ['FEMALE', '18', '12', '0.96', '105', '115', '38.1', 'ALERT', 'AIR', 'unrestricted normal activity', 'Select Specialty Hospital - Northeast Atlanta', '1821 CLIFTON ROAD NE']}, {'E1861': ['FEMALE', '18', '22', '0.96', '105', '230', '38.1', 'ALERT', 'AIR', 'limited strenuous activity, can do light activity', 'Select Specialty Hospital - Northeast Atlanta', '1821 CLIFTON ROAD NE']}, {'E4809': ['FEMALE', '40', '22', '0.96', '41', '230', '38.1', 'ALERT', 'AIR', 'unrestricted normal activity', 'Select Specialty Hospital - Northeast Atlanta', '1821 CLIFTON ROAD NE']}, {'E1365': ['MALE', '22', '22', '0.96', '115', '101', '35.4', 'ALERT', 'AIR', 'bed/chair bound, no self-care', 'Southwest Hospital and Medical Center', '501 FAIRBURN ROAD SW']}, {'E5984': ['Male', '40', '12', '0.93', '105', '91', '35.1', 'ALERT', 'AIR', 'limited activity, can self-care', 'Southwest Hospital and Medical Center', '501 FAIRBURN ROAD SW']}, {'E7013': ['FEMALE', '66', '23', '0.96', '135', '89', '40.8', 'ALERT', 'supplemental oxygen', 'unrestricted normal activity', 'Wesley Woods Geriatric Hospital', '1821 CLIFTON ROAD, NE']}, {'E2331': ['female', '18', '23', '0.98', '105', '115', '38.1', 'ALERT', 'AIR', 'limited self-care', 'Select Specialty Hospital - Northeast Atlanta', '1821 CLIFTON ROAD NE']}, {'E9938': ['MALE', '18', '12', '0.96', '105', '89', '35.1', 'ALERT', 'AIR', 'unrestricted normal activity', 'Southwest Hospital and Medical Center', '501 FAIRBURN ROAD SW']}, {'E5121': ['Female', '18', '23', '0.96', '41', '95', '38.1', 'ALERT', 'supplemental oxygen', 'limited activity, can self-care', 'Select Specialty Hospital - Northeast Atlanta', '1821 CLIFTON ROAD NE']}, {'E9280': ['male', '65', '10', '0.96', '135', '91', '38.1', 'ALERT', 'AIR', 'unrestricted normal activity', 'Wesley Woods Geriatric Hospital', '1821 CLIFTON ROAD, NE']}, {'E4762': ['FEMALE', '40', '12', '0.98', '105', '95', '38.1', 'ALERT', 'AIR', 'unrestricted normal activity', 'Select Specialty Hospital - Northeast Atlanta', '1821 CLIFTON ROAD NE']}, {'E6885': ['MALE', '18', '23', '0.93', '89', '115', '35.1', 'confused or not alert', 'AIR', 'limited activity, can self-care', 'Southwest Hospital and Medical Center', '501 FAIRBURN ROAD SW']}, {'E1695': ['FEMALE', '40', '22', '0.96', '41', '115', '38.1', 'ALERT', 'AIR', 'unrestricted normal activity', 'Select Specialty Hospital - Northeast Atlanta', '1821 CLIFTON ROAD NE']}, {'E9658': ['Female', '18', '10', '0.96', '90', '230', '38.1', 'ALERT', 'AIR', 'limited self-care', 'Select Specialty Hospital - Northeast Atlanta', '1821 CLIFTON ROAD NE']}, {'E1961': ['FEMALE', '65', '23', '0.96', '105', '115', '40.8', 'ALERT', 'AIR', 'limited activity, can self-care', 'Wesley Woods Geriatric Hospital', '1821 CLIFTON ROAD, NE']}, {'E9154': ['FEMALE', '66', '8', '0.94', '105', '89', '35.4', 'alert', 'AIR', 'bed/chair bound, no self-care', 'Wesley Woods Geriatric Hospital', '1821 CLIFTON ROAD, NE']}, {'E9417': ['FEMALE', '40', '23', '0.96', '105', '95', '38.1', 'alert', 'AIR', 'unrestricted normal activity', 'Select Specialty Hospital - Northeast Atlanta', '1821 CLIFTON ROAD NE']}, {'E9979': ['Male', '18', '8', '0.96', '105', '115', '38.1', 'ALERT', 'AIR', 'limited strenuous activity, can do light activity', 'Southwest Hospital and Medical Center', '501 FAIRBURN ROAD SW']}, {'E9316': ['MALE', '18', '23', '0.96', '135', '115', '38.1', 'ALERT', 'AIR', 'unrestricted normal activity', 'Southwest Hospital and Medical Center', '501 FAIRBURN ROAD SW']}, {'E8146': ['Male', '18', '12', '0.96', '115', '115', '38.1', 'ALERT', 'AIR', 'unrestricted normal activity', 'Southwest Hospital and Medical Center', '501 FAIRBURN ROAD SW']}, {'E3093': ['female', '40', '29', '0.96', '105', '95', '38.1', 'ALERT', 'AIR', 'unrestricted normal activity', 'Select Specialty Hospital - Northeast Atlanta', '1821 CLIFTON ROAD NE']}, {'E8829': ['male', '65', '12', '0.96', '51', '230', '38.1', 'alert', 'AIR', 'unrestricted normal activity', 'Wesley Woods Geriatric Hospital', '1821 CLIFTON ROAD, NE']}, {'E1453': ['male', '18', '24', '0.99', '105', '115', '38.1', 'ALERT', 'AIR', 'unrestricted normal activity', 'Southwest Hospital and Medical Center', '501 FAIRBURN ROAD SW']}, {'E5777': ['female', '66', '23', '0.96', '115', '89', '38.1', 'ALERT', 'AIR', 'limited strenuous activity, can do light activity', 'Wesley Woods Geriatric Hospital', '1821 CLIFTON ROAD, NE']}, {'E4564': ['FEMALE', '18', '24', '0.96', '41', '115', '35.1', 'confused or not alert', 'AIR', 'unrestricted normal activity', 'Select Specialty Hospital - Northeast Atlanta', '1821 CLIFTON ROAD NE']}, {'E1904': ['FEMALE', '40', '22', '0.93', '38', '95', '38.1', 'Confused or Not Alert', 'AIR', 'unrestricted normal activity', 'Select Specialty Hospital - Northeast Atlanta', '1821 CLIFTON ROAD NE']}, {'E8746': ['Female', '40', '12', '0.93', '105', '115', '38.1', 'ALERT', 'AIR', 'unrestricted normal activity', 'Select Specialty Hospital - Northeast Atlanta', '1821 CLIFTON ROAD NE']}, {'E9165': ['FEMALE', '19', '22', '0.98', '50', '95', '38.1', 'ALERT', 'AIR', 'limited activity, can self-care', 'Select Specialty Hospital - Northeast Atlanta', '1821 CLIFTON ROAD NE']}, {'E9305': ['FEMALE', '40', '8', '0.89', '105', '101', '38.1', 'ALERT', 'supplemental oxygen', 'unrestricted normal activity', 'Select Specialty Hospital - Northeast Atlanta', '1821 CLIFTON ROAD NE']}, {'E3217': ['Female', '40', '10', '0.95', '105', '95', '38.1', 'ALERT', 'AIR', 'unrestricted normal activity', 'Select Specialty Hospital - Northeast Atlanta', '1821 CLIFTON ROAD NE']}, {'E3127': ['Female', '40', '8', '0.96', '38', '115', '36.3', 'ALERT', 'AIR', 'limited strenuous activity, can do light activity', 'Select Specialty Hospital - Northeast Atlanta', '1821 CLIFTON ROAD NE']}, {'E7501': ['female', '18', '23', '0.96', '135', '115', '38.1', 'ALERT', 'AIR', 'unrestricted normal activity', 'Select Specialty Hospital - Northeast Atlanta', '1821 CLIFTON ROAD NE']}, {'E4997': ['female', '40', '23', '0.94', '105', '115', '36.3', 'ALERT', 'AIR', 'unrestricted normal activity', 'Select Specialty Hospital - Northeast Atlanta', '1821 CLIFTON ROAD NE']}, {'E6181': ['female', '19', '23', '0.96', '89', '115', '38.1', 'ALERT', 'AIR', 'unrestricted normal activity', 'Select Specialty Hospital - Northeast Atlanta', '1821 CLIFTON ROAD NE']}, {'E1073': ['FEMALE', '18', '24', '0.95', '50', '115', '38.1', 'Confused or Not Alert', 'AIR', 'limited self-care', 'Select Specialty Hospital - Northeast Atlanta', '1821 CLIFTON ROAD NE']}, {'E9608': ['female', '80', '12', '0.96', '50', '89', '38.1', 'ALERT', 'AIR', 'unrestricted normal activity', 'Wesley Woods Geriatric Hospital', '1821 CLIFTON ROAD, NE']}, {'E7663': ['FEMALE', '18', '11', '0.96', '105', '115', '38.1', 'ALERT', 'air', 'limited self-care', 'Select Specialty Hospital - Northeast Atlanta', '1821 CLIFTON ROAD NE']}, {'E7648': ['female', '66', '12', '0.98', '41', '115', '34.9', 'ALERT', 'air', 'unrestricted normal activity', 'Wesley Woods Geriatric Hospital', '1821 CLIFTON ROAD, NE']}, {'E1883': ['male', '40', '10', '0.98', '105', '115', '38.1', 'ALERT', 'AIR', 'unrestricted normal activity', 'Southwest Hospital and Medical Center', '501 FAIRBURN ROAD SW']}, {'E2001': ['FEMALE', '18', '12', '0.99', '51', '115', '38.1', 'Confused or Not Alert', 'AIR', 'unrestricted normal activity', 'Select Specialty Hospital - Northeast Atlanta', '1821 CLIFTON ROAD NE']}, {'E2418': ['male', '18', '20', '0.94', '105', '115', '35.4', 'ALERT', 'air', 'unrestricted normal activity', 'Southwest Hospital and Medical Center', '501 FAIRBURN ROAD SW']}, {'E3739': ['Male', '85', '10', '0.96', '105', '115', '38.1', 'Confused or Not Alert', 'supplemental oxygen', 'unrestricted normal activity', 'Wesley Woods Geriatric Hospital', '1821 CLIFTON ROAD, NE']}, {'E8351': ['FEMALE', '40', '23', '0.96', '90', '101', '38.1', 'ALERT', 'AIR', 'unrestricted normal activity', 'Select Specialty Hospital - Northeast Atlanta', '1821 CLIFTON ROAD NE']}, {'E2882': ['Male', '51', '24', '0.98', '105', '91', '38.1', 'ALERT', 'AIR', 'unrestricted normal activity', 'Southwest Hospital and Medical Center', '501 FAIRBURN ROAD SW']}, {'E1902': ['Female', '85', '22', '0.96', '105', '115', '38.1', 'ALERT', 'supplemental oxygen', 'unrestricted normal activity', 'Wesley Woods Geriatric Hospital', '1821 CLIFTON ROAD, NE']}, {'E2155': ['Male', '18', '22', '0.94', '105', '115', '38.1', 'ALERT', 'air', 'limited self-care', 'Southwest Hospital and Medical Center', '501 FAIRBURN ROAD SW']}, {'E4345': ['Female', '40', '19', '0.89', '41', '115', '34.9', 'ALERT', 'air', 'unrestricted normal activity', 'Select Specialty Hospital - Northeast Atlanta', '1821 CLIFTON ROAD NE']}, {'E4194': ['FEMALE', '40', '12', '0.95', '105', '91', '38.1', 'ALERT', 'AIR', 'limited self-care', 'Select Specialty Hospital - Northeast Atlanta', '1821 CLIFTON ROAD NE']}, {'E5211': ['male', '65', '22', '0.96', '41', '115', '38.1', 'ALERT', 'AIR', 'unrestricted normal activity', 'Wesley Woods Geriatric Hospital', '1821 CLIFTON ROAD, NE']}, {'E5488': ['Female', '40', '12', '0.94', '105', '101', '38.1', 'ALERT', 'AIR', 'unrestricted normal activity', 'Select Specialty Hospital - Northeast Atlanta', '1821 CLIFTON ROAD NE']}, {'E8560': ['FEMALE', '40', '23', '0.96', '41', '115', '35.1', 'confused or not alert', 'AIR', 'unrestricted normal activity', 'Select Specialty Hospital - Northeast Atlanta', '1821 CLIFTON ROAD NE']}, {'E2995': ['FEMALE', '18', '20', '0.99', '105', '95', '35.1', 'alert', 'AIR', 'unrestricted normal activity', 'Select Specialty Hospital - Northeast Atlanta', '1821 CLIFTON ROAD NE']}, {'E3422': ['FEMALE', '40', '8', '0.96', '105', '115', '35.4', 'ALERT', 'AIR', 'unrestricted normal activity', 'Select Specialty Hospital - Northeast Atlanta', '1821 CLIFTON ROAD NE']}, {'E7707': ['Female', '18', '20', '0.96', '38', '115', '36.3', 'ALERT', 'air', 'limited strenuous activity, can do light activity', 'Select Specialty Hospital - Northeast Atlanta', '1821 CLIFTON ROAD NE']}, {'E3119': ['FEMALE', '18', '20', '0.99', '135', '89', '35.1', 'ALERT', 'supplemental oxygen', 'unrestricted normal activity', 'Select Specialty Hospital - Northeast Atlanta', '1821 CLIFTON ROAD NE']}, {'E1419': ['male', '65', '23', '0.99', '105', '91', '38.1', 'alert', 'AIR', 'unrestricted normal activity', 'Wesley Woods Geriatric Hospital', '1821 CLIFTON ROAD, NE']}, {'E7748': ['male', '40', '23', '0.93', '105', '115', '38.1', 'ALERT', 'supplemental oxygen', 'unrestricted normal activity', 'Southwest Hospital and Medical Center', '501 FAIRBURN ROAD SW']}, {'E7251': ['Female', '40', '12', '0.96', '105', '91', '38.1', 'alert', 'AIR', 'unrestricted normal activity', 'Select Specialty Hospital - Northeast Atlanta', '1821 CLIFTON ROAD NE']}, {'E1235': ['FEMALE', '40', '29', '0.96', '41', '115', '38.1', 'ALERT', 'AIR', 'bed/chair bound, no self-care', 'Select Specialty Hospital - Northeast Atlanta', '1821 CLIFTON ROAD NE']}, {'E5361': ['FEMALE', '18', '22', '0.93', '90', '101', '38.1', 'confused or not alert', 'AIR', 'unrestricted normal activity', 'Select Specialty Hospital - Northeast Atlanta', '1821 CLIFTON ROAD NE']}, {'E7130': ['FEMALE', '18', '22', '0.96', '50', '115', '38.1', 'ALERT', 'AIR', 'limited strenuous activity, can do light activity', 'Select Specialty Hospital - Northeast Atlanta', '1821 CLIFTON ROAD NE']}, {'E5665': ['FEMALE', '85', '23', '0.96', '115', '115', '38.1', 'ALERT', 'AIR', 'unrestricted normal activity', 'Wesley Woods Geriatric Hospital', '1821 CLIFTON ROAD, NE']}, {'E9957': ['Female', '40', '22', '0.98', '89', '230', '38.1', 'alert', 'AIR', 'unrestricted normal activity', 'Select Specialty Hospital - Northeast Atlanta', '1821 CLIFTON ROAD NE']}, {'E10000': ['FEMALE', '18', '23', '0.96', '105', '101', '38.1', 'ALERT', 'AIR', 'limited activity, can self-care', 'Select Specialty Hospital - Northeast Atlanta', '1821 CLIFTON ROAD NE']}]\n"
          ]
        }
      ]
    },
    {
      "cell_type": "markdown",
      "metadata": {
        "id": "iHofyKaxhVK7"
      },
      "source": [
        "## Part 5: Checking your final results\n",
        "\n",
        "The final step is to check your results.  You should be able to compare your results to the output in `people_results.json` at the link below.  Write some code to check your results.  This does not need to be a function.\n",
        "\n",
        "`https://drive.google.com/uc?export=download&id=1gx1SSC20mO5XL6uYD0mdcM_cL91fcIW5`\n"
      ]
    },
    {
      "cell_type": "code",
      "execution_count": 47,
      "metadata": {
        "id": "gQvMv2IThVK7",
        "outputId": "6a9c3e46-a832-403b-e59d-d80c5f11e992",
        "colab": {
          "base_uri": "https://localhost:8080/"
        }
      },
      "outputs": [
        {
          "output_type": "stream",
          "name": "stdout",
          "text": [
            "Correct Results: 99\n",
            "Incorrect Results: 0\n"
          ]
        }
      ],
      "source": [
        "# Load data\n",
        "file_location = \"https://hds5210-data.s3.amazonaws.com/people.psv\"\n",
        "your_results = process_people(file_location)\n",
        "\n",
        "# Load expected results from people_results.json\n",
        "expected_results_url = \"https://hds5210-data.s3.amazonaws.com/people_results.json\"\n",
        "response = requests.get(expected_results_url)\n",
        "\n",
        "if response.status_code == 200:\n",
        "    expected_results = json.loads(response.text)\n",
        "\n",
        "    correct_results = 0\n",
        "    incorrect_results = 0\n",
        "\n",
        "    for data_dict in your_results:\n",
        "        for patient, data in data_dict.items():\n",
        "            if patient in expected_results:\n",
        "                correct_results += 1\n",
        "            else:\n",
        "                incorrect_results += 1\n",
        "\n",
        "    print(f\"Correct Results: {correct_results}\")\n",
        "    print(f\"Incorrect Results: {incorrect_results}\")\n",
        "else:\n",
        "    print(\"Failed to fetch expected results.\")"
      ]
    },
    {
      "cell_type": "markdown",
      "metadata": {
        "id": "uN5N59ufhVK7"
      },
      "source": [
        "---\n",
        "\n",
        "## Check your work above\n",
        "\n",
        "If you didn't get them all correct, take a few minutes to think through those that aren't correct.\n",
        "\n",
        "\n",
        "## Submitting Your Work\n",
        "\n",
        "Submit your work as usual into a folder named `midterm`"
      ]
    },
    {
      "cell_type": "markdown",
      "metadata": {
        "id": "GacFy9w5hVK8"
      },
      "source": [
        "---"
      ]
    }
  ],
  "metadata": {
    "kernelspec": {
      "display_name": "Python 3",
      "language": "python",
      "name": "python3"
    },
    "language_info": {
      "codemirror_mode": {
        "name": "ipython",
        "version": 3
      },
      "file_extension": ".py",
      "mimetype": "text/x-python",
      "name": "python",
      "nbconvert_exporter": "python",
      "pygments_lexer": "ipython3",
      "version": "3.9.16"
    },
    "colab": {
      "provenance": []
    }
  },
  "nbformat": 4,
  "nbformat_minor": 0
}