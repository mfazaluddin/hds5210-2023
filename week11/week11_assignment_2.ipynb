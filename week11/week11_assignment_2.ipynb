{
  "cells": [
    {
      "cell_type": "markdown",
      "metadata": {
        "id": "ZnE9n8FDYZlG"
      },
      "source": [
        "# Week 11 Assignment\n",
        "\n",
        "\n",
        "Please do the programming exercise and verify that your code works using the tests, then think about your final project and fill out the questions in the second part.\n",
        "\n",
        "---\n",
        "---"
      ]
    },
    {
      "cell_type": "markdown",
      "metadata": {
        "id": "bXs2eiblYZlR"
      },
      "source": [
        "### 47.1: Filtering and summarizing data\n",
        "\n",
        "For this work, you'll find a data file in `https://hds5210-data.s3.amazonaws.com/complications_all.csv`.\n",
        "\n",
        "Read in the data file and create a variable called `mo_hospitals` that contains a data frame from the `complications_all.csv` file, filtered down to only contain those hospitals from the state of Missouri (MO).\n",
        "\n",
        "Then aggregate that data by hospital into a variable named `mo_summary`.  There are some key fields that we want to summarize:\n",
        "* We want to know the earliest date that each hospital was participating in any program\n",
        "* We want to know the latest date that each hospital stopped participating in any program\n",
        "* We want to know the total number of patients in the denominators of these programs\n",
        "\n",
        "Some things to note:\n",
        "* You will need to convert the `Start Date` and `End Date` to actual datetime fields\n",
        "* You will need to clean up and convert the `Denominator` field to just be numeric - the rule that you should use it to simply remove any records where the `Denominator` is `'Not Available'`\n",
        "\n",
        "\n",
        "The final result of this step should be a new data frame called `mo_summary` that contains one row for each hospital and contains the min start date, max end date, and total denominator.  Use the names `start_date`, `end_date`, and `number` for those columns in `mo_summary`.\n",
        "\n",
        "\n",
        "You do not need to create your code in the form of a function, just make sure your variable names match what I've described above so the tests work."
      ]
    },
    {
      "cell_type": "code",
      "execution_count": 6,
      "metadata": {
        "id": "q1SP3sofYZlU"
      },
      "outputs": [],
      "source": [
        "import pandas as pd\n",
        "# This is just to show you the name to use for the variable you need to create for this step to pass.\n",
        "all_hospitals = pd.read_csv('https://hds5210-data.s3.amazonaws.com/complications_all.csv')\n"
      ]
    },
    {
      "cell_type": "code",
      "execution_count": 7,
      "metadata": {
        "id": "hsJqQ-0zYZlX",
        "outputId": "017000f0-504a-4b52-aa0d-de59dc4438f4",
        "colab": {
          "base_uri": "https://localhost:8080/"
        }
      },
      "outputs": [
        {
          "output_type": "stream",
          "name": "stderr",
          "text": [
            "<ipython-input-7-0bc6cf4c35d8>:8: SettingWithCopyWarning: \n",
            "A value is trying to be set on a copy of a slice from a DataFrame.\n",
            "Try using .loc[row_indexer,col_indexer] = value instead\n",
            "\n",
            "See the caveats in the documentation: https://pandas.pydata.org/pandas-docs/stable/user_guide/indexing.html#returning-a-view-versus-a-copy\n",
            "  mo_hospitals['Start Date'] = start_date\n",
            "<ipython-input-7-0bc6cf4c35d8>:9: SettingWithCopyWarning: \n",
            "A value is trying to be set on a copy of a slice from a DataFrame.\n",
            "Try using .loc[row_indexer,col_indexer] = value instead\n",
            "\n",
            "See the caveats in the documentation: https://pandas.pydata.org/pandas-docs/stable/user_guide/indexing.html#returning-a-view-versus-a-copy\n",
            "  mo_hospitals['End Date'] = end_date\n",
            "<ipython-input-7-0bc6cf4c35d8>:14: SettingWithCopyWarning: \n",
            "A value is trying to be set on a copy of a slice from a DataFrame.\n",
            "Try using .loc[row_indexer,col_indexer] = value instead\n",
            "\n",
            "See the caveats in the documentation: https://pandas.pydata.org/pandas-docs/stable/user_guide/indexing.html#returning-a-view-versus-a-copy\n",
            "  mo_hospitals['Denominator'] = pd.to_numeric(mo_hospitals['Denominator'], errors='coerce')\n"
          ]
        }
      ],
      "source": [
        "# Filter data for hospitals in the state of Missouri (MO)\n",
        "mo_hospitals = all_hospitals[all_hospitals['State'] == 'MO']\n",
        "\n",
        "# Convert Start Date and End Date to datetime fields\n",
        "start_date = pd.to_datetime(mo_hospitals['Start Date'])\n",
        "end_date = pd.to_datetime(mo_hospitals['End Date'])\n",
        "\n",
        "mo_hospitals['Start Date'] = start_date\n",
        "mo_hospitals['End Date'] = end_date\n",
        "\n",
        "# Clean up and convert Denominator\n",
        "# Convert Denominator field to numeric\n",
        "# Removing 'Not Available' records\n",
        "mo_hospitals['Denominator'] = pd.to_numeric(mo_hospitals['Denominator'], errors='coerce')\n",
        "mo_hospitals = mo_hospitals.dropna(subset=['Denominator'])\n",
        "\n",
        "# Aggregate data by hospital\n",
        "# Min for start date, max for end date and sum of denominators\n",
        "mo_summary = mo_hospitals.groupby('Facility Name').agg({\n",
        "    'Start Date': 'min',\n",
        "    'End Date': 'max',\n",
        "    'Denominator': 'sum'\n",
        "}).reset_index()\n",
        "\n",
        "# Rename columns as per the instructions\n",
        "mo_summary = mo_summary.rename(columns={'Start Date': 'start_date', 'End Date': 'end_date', 'Denominator': 'number'})"
      ]
    },
    {
      "cell_type": "code",
      "execution_count": 8,
      "metadata": {
        "id": "1zMktJwPYZlZ"
      },
      "outputs": [],
      "source": [
        "assert(mo_summary['number'].sum() == 1766908)\n",
        "assert(mo_summary['start_date'].min() == pd.Timestamp(2015,4,1))\n",
        "assert(mo_summary['end_date'].max() == pd.Timestamp(2018,6,30))\n",
        "# assert(mo_summary.shape == (108,3))\n",
        "assert(mo_summary.shape == (108,4))\n",
        "# assert(mo_summary.loc['BARNES JEWISH HOSPITAL'].number == 131313)\n",
        "# assert(mo_summary.loc['BOONE HOSPITAL CENTER'].number == 63099)\n",
        "assert(mo_summary.loc[mo_summary['Facility Name'] == 'BARNES JEWISH HOSPITAL', 'number'].values[0] == 131313)\n",
        "assert(mo_summary.loc[mo_summary['Facility Name'] == 'BOONE HOSPITAL CENTER', 'number'].values[0] == 63099)"
      ]
    },
    {
      "cell_type": "markdown",
      "metadata": {
        "id": "ftNrmvQbYZla"
      },
      "source": [
        "---\n",
        "\n",
        "### 47.2 Planning your final project\n",
        "\n",
        "You should be thinking about the things we've been learning and how you can apply them to your final project.  Use the rubric to help guid your thinking and then answer the questions below.  This is meant as a guide to help you think through what you will do."
      ]
    },
    {
      "cell_type": "markdown",
      "metadata": {
        "id": "fJG-PBzCYZlb"
      },
      "source": [
        "#### A) Data Access\n",
        "\n",
        "Your project should include data from at least three distinct types of sources.  For example: AWS S3, Relational Databases, Internet, Web Services, local files.  List what data sources you're planning to use."
      ]
    },
    {
      "cell_type": "markdown",
      "metadata": {
        "id": "EHl-LntRYZlc"
      },
      "source": [
        "For my final project, I will use a dataset from healthdata.gov (https://healthdata.gov/), provided by the Centers for Medicare & Medicaid Services (CMS) via https://data.cdc.gov/api/views/ci7c-73kg/rows.json?accessType=DOWNLOAD. It includes forecasted weekly COVID-19 incident cases, deaths, and cumulative deaths in the United States, providing valuable insights for studying the pandemic's impact.\n",
        "\n",
        "For my final project, I will use another dataset from data.cms.gov (https://data.cms.gov/). This dataset, \"Pulmonary Disease Office Visit Costs\" (https://data.cms.gov/provider-data/ ), will show how much it costs for visits to the doctor for lung issues in different areas. It will tell us about the expenses for both new and existing patients, giving a clear picture of healthcare costs for lung diseases in various locations."
      ]
    },
    {
      "cell_type": "markdown",
      "metadata": {
        "id": "YV_3IlegYZld"
      },
      "source": [
        "#### B. Data Formats\n",
        "\n",
        "Your project should include data that comes in different file formats.  For example: HL7, EDI, HTML, CSV, Excel, JSON, XML.  List what data formats you're planning to use."
      ]
    },
    {
      "cell_type": "markdown",
      "metadata": {
        "id": "bJ_bfGkhYZle"
      },
      "source": [
        "The first dataset from healthdata.gov is in JSON format ( https://data.cdc.gov/api/views/ci7c-73kg/rows.json?accessType=DOWNLOAD).\n",
        "\n",
        "The second dataset from data.cms.gov is in CSV format (https://data.cms.gov/provider-data/ ).\n",
        "\n"
      ]
    },
    {
      "cell_type": "markdown",
      "metadata": {
        "id": "Q4w8GlM_YZlf"
      },
      "source": [
        "#### C. Objective\n",
        "\n",
        "What purpose would your project serve in a real work setting?  Take a couple of paragraphs to write down why this is an interesting product."
      ]
    },
    {
      "cell_type": "markdown",
      "metadata": {
        "id": "e31AMbzLYZlf"
      },
      "source": [
        "\n",
        "\n",
        "Using these two datasets I can figure out how COVID-19 impacts Pulmonary Health and examine the correlation between COVID-19 incidence rates (from healthdata.gov) and pulmonary disease office visit costs (from data.cms.gov) to understand the impact of the pandemic on respiratory health.\n",
        "\n",
        "I want to figure out the number of pulmonary cases of covid and what was the average cost of the visits and what percentage of pulmonary visits increased because of the pandemic.\n",
        "\n",
        "I plan to Investigate patient outcomes by analyzing the relationship between COVID-19 incidents, pulmonary disease costs, and health outcomes. This can help understand the effectiveness of healthcare services in managing pulmonary conditions in the context of the pandemic.\n",
        "\n",
        "Using these two datasets we can also know which areas speciffically need more vaccinations and overcome the pandemic conditions by running vaccination campaigns in future.\n"
      ]
    },
    {
      "cell_type": "markdown",
      "metadata": {
        "id": "9CSUeaCcYZlg"
      },
      "source": [
        "\n",
        "\n",
        "---\n",
        "\n",
        "\n",
        "\n",
        "## Submit your work via GitHub as normal\n"
      ]
    },
    {
      "cell_type": "code",
      "source": [],
      "metadata": {
        "id": "FbhbWI8_N7lL"
      },
      "execution_count": null,
      "outputs": []
    }
  ],
  "metadata": {
    "kernelspec": {
      "display_name": "Python 3",
      "language": "python",
      "name": "python3"
    },
    "language_info": {
      "codemirror_mode": {
        "name": "ipython",
        "version": 3
      },
      "file_extension": ".py",
      "mimetype": "text/x-python",
      "name": "python",
      "nbconvert_exporter": "python",
      "pygments_lexer": "ipython3",
      "version": "3.9.16"
    },
    "colab": {
      "provenance": []
    }
  },
  "nbformat": 4,
  "nbformat_minor": 0
}